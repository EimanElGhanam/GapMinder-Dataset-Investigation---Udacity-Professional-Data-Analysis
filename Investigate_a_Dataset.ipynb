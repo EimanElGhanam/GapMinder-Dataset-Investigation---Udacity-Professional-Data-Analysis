{
 "cells": [
  {
   "cell_type": "markdown",
   "metadata": {},
   "source": [
    "\n",
    "# Project: Investigate a Dataset - [Gapminder World Dataset]\n",
    "\n",
    "## Table of Contents\n",
    "<ul>\n",
    "<li><a href=\"#intro\">Introduction</a></li>\n",
    "<li><a href=\"#wrangling\">Data Wrangling</a></li>\n",
    "<li><a href=\"#eda\">Exploratory Data Analysis</a></li>\n",
    "<li><a href=\"#conclusions\">Conclusions</a></li>\n",
    "</ul>"
   ]
  },
  {
   "cell_type": "markdown",
   "metadata": {},
   "source": [
    "<a id='intro'></a>\n",
    "## Introduction\n",
    "\n",
    "### Dataset Description \n",
    "\n",
    "Gapminder is an independent educational non-proﬁt-making organization, that aims to ﬁght misconceptions about different global trends through extensive data analysis. In particular, the Gapminder World Dataset is a large collection of files containing data about people from different countries collected over a number of years, that can be used to study different patterns related to population growth, health, education, employment rates, etc. \n",
    "\n",
    "In this project, a subset of the Gapminder World Dataset is investigated to study the education levels and unemployment rates of people across the two genders, belonging to different age groups and living in different countries. The data used in this project is obtained from GitHub through: https://github.com/open-numbers/ddf--gapminder--systema_globalis, and is accessible free-of-charge by GAPMINDER.ORG under the Creative Commons Attribution 4.0 International license.\n",
    "\n",
    "### Question(s) for Analysis\n",
    "The data analysis conducted in this project aims to answer the following questions: \n",
    "1. What is the relationship between gender and the mean years spent at school across different regions?\n",
    "2. What is the relationship between age and the unemployment rates in different regions?\n",
    "3. What is the relationship between the mean years spent at school and the unemployment rates across different regions for people aged 25-54?\n",
    "4. How have unemployment rates varied over time in countries from different regions? Are unemployment rates growing in certain regions than others? \n",
    "5. What is the relationship between mean school years and youth literacy rates per region?"
   ]
  },
  {
   "cell_type": "code",
   "execution_count": 1,
   "metadata": {},
   "outputs": [],
   "source": [
    "#Package import statements \n",
    "import pandas as pd\n",
    "import numpy as np\n",
    "%matplotlib inline\n",
    "import matplotlib.pyplot as plt\n",
    "import seaborn as sns\n",
    "plt.rcParams[\"figure.figsize\"] = [12, 10]\n",
    "plt.rcParams.update({'font.size': 12})\n",
    "plt.rcParams[\"font.family\"] = \"Times New Roman\"\n",
    "sns.set_style('darkgrid')"
   ]
  },
  {
   "cell_type": "markdown",
   "metadata": {},
   "source": [
    "<a id='wrangling'></a>\n",
    "## Data Wrangling\n",
    "\n",
    "Data in the Gapminder World Dataset is provided in the form of a large collection of CSV files in DDFcsv format. DDF is the data model used by Gapminder Foundation to structure their data, with a certain file naming convention that follows the structure of the data file. A subset of these files is extracted to be used for this project and are included in the associated .zip package. These files are categorized for this project as follows:\n",
    "1. Key Files:\n",
    "- ddf--entities--geo--country.csv\n",
    "\n",
    "2. Data Files:\n",
    "2. a. Female Unmployment Data\n",
    "- ddf--datapoints--females_aged_15_24_unemployment_rate_percent--by--geo--time.csv\n",
    "- ddf--datapoints--females_aged_25_54_unemployment_rate_percent--by--geo--time.csv\n",
    "- ddf--datapoints--females_aged_55_64_unemployment_rate_percent--by--geo--time.csv\n",
    "- ddf--datapoints--females_aged_65plus_unemployment_rate_percent--by--geo--time.csv\n",
    "\n",
    "2. b. Male Unemployment Data\n",
    "- ddf--datapoints--males_aged_15_24_employment_rate_percent--by--geo--time.csv\n",
    "- ddf--datapoints--males_aged_15_24_unemployment_rate_percent--by--geo--time.csv\n",
    "- ddf--datapoints--males_aged_25_54_unemployment_rate_percent--by--geo--time.csv\n",
    "- ddf--datapoints--males_aged_55_64_unemployment_rate_percent--by--geo--time.csv\n",
    "- ddf--datapoints--males_aged_65plus_unemployment_rate_percent--by--geo--time.csv\n",
    "\n",
    "2. c. Female Mean School Years\n",
    "- ddf--datapoints--mean_years_in_school_women_15_to_24_years--by--geo--time.csv\n",
    "- ddf--datapoints--mean_years_in_school_women_25_to_34_years--by--geo--time.csv\n",
    "- ddf--datapoints--mean_years_in_school_women_35_to_44_years--by--geo--time.csv\n",
    "- ddf--datapoints--mean_years_in_school_women_45_to_54_years--by--geo--time.csv\n",
    "- ddf--datapoints--mean_years_in_school_women_55_to_64_years--by--geo--time.csv\n",
    "- ddf--datapoints--mean_years_in_school_women_65_plus_years--by--geo--time.csv\n",
    "\n",
    "2. d. Male Mean School Years\n",
    "- ddf--datapoints--mean_years_in_school_men_15_to_24_years--by--geo--time.csv\n",
    "- ddf--datapoints--mean_years_in_school_men_25_to_34_years--by--geo--time.csv\n",
    "- ddf--datapoints--mean_years_in_school_men_35_to_44_years--by--geo--time.csv\n",
    "- ddf--datapoints--mean_years_in_school_men_45_to_54_years--by--geo--time.csv\n",
    "- ddf--datapoints--mean_years_in_school_men_55_to_64_years--by--geo--time.csv\n",
    "- ddf--datapoints--mean_years_in_school_men_65_plus_years--by--geo--time.csv\n",
    "\n",
    "2. e. Male/Female Literacy Rates\n",
    "- ddf--datapoints--literacy_rate_youth_female_percent_of_females_ages_15_24--by--geo--time.csv\n",
    "- ddf--datapoints--literacy_rate_youth_male_percent_of_males_ages_15_24--by--geo--time.csv\n",
    "\n",
    "\n",
    "### Data Wrangling Process\n",
    "The files in each of the above categories are re-organized and merged to fascilitate the analysis and be able to answer the research questions. This is done using the following steps. "
   ]
  },
  {
   "cell_type": "markdown",
   "metadata": {},
   "source": [
    "#### Step 1:\n",
    "From the ddf--entities--geo--country.csv, a Dataframe with country codes, names, regions and income levels is extracted. "
   ]
  },
  {
   "cell_type": "code",
   "execution_count": 2,
   "metadata": {},
   "outputs": [
    {
     "data": {
      "text/html": [
       "<div>\n",
       "<style scoped>\n",
       "    .dataframe tbody tr th:only-of-type {\n",
       "        vertical-align: middle;\n",
       "    }\n",
       "\n",
       "    .dataframe tbody tr th {\n",
       "        vertical-align: top;\n",
       "    }\n",
       "\n",
       "    .dataframe thead th {\n",
       "        text-align: right;\n",
       "    }\n",
       "</style>\n",
       "<table border=\"1\" class=\"dataframe\">\n",
       "  <thead>\n",
       "    <tr style=\"text-align: right;\">\n",
       "      <th></th>\n",
       "      <th>country</th>\n",
       "      <th>g77_and_oecd_countries</th>\n",
       "      <th>income_3groups</th>\n",
       "      <th>income_groups</th>\n",
       "      <th>is--country</th>\n",
       "      <th>iso3166_1_alpha2</th>\n",
       "      <th>iso3166_1_alpha3</th>\n",
       "      <th>iso3166_1_numeric</th>\n",
       "      <th>iso3166_2</th>\n",
       "      <th>landlocked</th>\n",
       "      <th>...</th>\n",
       "      <th>main_religion_2008</th>\n",
       "      <th>name</th>\n",
       "      <th>un_sdg_ldc</th>\n",
       "      <th>un_sdg_region</th>\n",
       "      <th>un_state</th>\n",
       "      <th>unhcr_region</th>\n",
       "      <th>unicef_region</th>\n",
       "      <th>unicode_region_subtag</th>\n",
       "      <th>world_4region</th>\n",
       "      <th>world_6region</th>\n",
       "    </tr>\n",
       "  </thead>\n",
       "  <tbody>\n",
       "    <tr>\n",
       "      <th>0</th>\n",
       "      <td>abkh</td>\n",
       "      <td>others</td>\n",
       "      <td>NaN</td>\n",
       "      <td>NaN</td>\n",
       "      <td>True</td>\n",
       "      <td>NaN</td>\n",
       "      <td>NaN</td>\n",
       "      <td>NaN</td>\n",
       "      <td>NaN</td>\n",
       "      <td>NaN</td>\n",
       "      <td>...</td>\n",
       "      <td>NaN</td>\n",
       "      <td>Abkhazia</td>\n",
       "      <td>NaN</td>\n",
       "      <td>NaN</td>\n",
       "      <td>False</td>\n",
       "      <td>NaN</td>\n",
       "      <td>NaN</td>\n",
       "      <td>NaN</td>\n",
       "      <td>europe</td>\n",
       "      <td>europe_central_asia</td>\n",
       "    </tr>\n",
       "    <tr>\n",
       "      <th>1</th>\n",
       "      <td>abw</td>\n",
       "      <td>others</td>\n",
       "      <td>high_income</td>\n",
       "      <td>high_income</td>\n",
       "      <td>True</td>\n",
       "      <td>AW</td>\n",
       "      <td>ABW</td>\n",
       "      <td>533.0</td>\n",
       "      <td>NaN</td>\n",
       "      <td>coastline</td>\n",
       "      <td>...</td>\n",
       "      <td>christian</td>\n",
       "      <td>Aruba</td>\n",
       "      <td>un_not_least_developed</td>\n",
       "      <td>un_latin_america_and_the_caribbean</td>\n",
       "      <td>False</td>\n",
       "      <td>unhcr_americas</td>\n",
       "      <td>NaN</td>\n",
       "      <td>AW</td>\n",
       "      <td>americas</td>\n",
       "      <td>america</td>\n",
       "    </tr>\n",
       "  </tbody>\n",
       "</table>\n",
       "<p>2 rows × 22 columns</p>\n",
       "</div>"
      ],
      "text/plain": [
       "  country g77_and_oecd_countries income_3groups income_groups  is--country  \\\n",
       "0    abkh                 others            NaN           NaN         True   \n",
       "1     abw                 others    high_income   high_income         True   \n",
       "\n",
       "  iso3166_1_alpha2 iso3166_1_alpha3  iso3166_1_numeric iso3166_2 landlocked  \\\n",
       "0              NaN              NaN                NaN       NaN        NaN   \n",
       "1               AW              ABW              533.0       NaN  coastline   \n",
       "\n",
       "   ...  main_religion_2008      name              un_sdg_ldc  \\\n",
       "0  ...                 NaN  Abkhazia                     NaN   \n",
       "1  ...           christian     Aruba  un_not_least_developed   \n",
       "\n",
       "                        un_sdg_region un_state    unhcr_region  unicef_region  \\\n",
       "0                                 NaN    False             NaN            NaN   \n",
       "1  un_latin_america_and_the_caribbean    False  unhcr_americas            NaN   \n",
       "\n",
       "  unicode_region_subtag world_4region        world_6region  \n",
       "0                   NaN        europe  europe_central_asia  \n",
       "1                    AW      americas              america  \n",
       "\n",
       "[2 rows x 22 columns]"
      ]
     },
     "execution_count": 2,
     "metadata": {},
     "output_type": "execute_result"
    }
   ],
   "source": [
    "df_country = pd.read_csv('ddf--entities--geo--country.csv')\n",
    "df_country.head(2)"
   ]
  },
  {
   "cell_type": "code",
   "execution_count": 3,
   "metadata": {},
   "outputs": [
    {
     "data": {
      "text/plain": [
       "(273, 22)"
      ]
     },
     "execution_count": 3,
     "metadata": {},
     "output_type": "execute_result"
    }
   ],
   "source": [
    "df_country.shape"
   ]
  },
  {
   "cell_type": "code",
   "execution_count": 4,
   "metadata": {},
   "outputs": [
    {
     "data": {
      "text/plain": [
       "273"
      ]
     },
     "execution_count": 4,
     "metadata": {},
     "output_type": "execute_result"
    }
   ],
   "source": [
    "# Confirming no duplicate entries for country. \n",
    "df_country['country'].nunique()"
   ]
  },
  {
   "cell_type": "code",
   "execution_count": 5,
   "metadata": {},
   "outputs": [
    {
     "data": {
      "text/html": [
       "<div>\n",
       "<style scoped>\n",
       "    .dataframe tbody tr th:only-of-type {\n",
       "        vertical-align: middle;\n",
       "    }\n",
       "\n",
       "    .dataframe tbody tr th {\n",
       "        vertical-align: top;\n",
       "    }\n",
       "\n",
       "    .dataframe thead th {\n",
       "        text-align: right;\n",
       "    }\n",
       "</style>\n",
       "<table border=\"1\" class=\"dataframe\">\n",
       "  <thead>\n",
       "    <tr style=\"text-align: right;\">\n",
       "      <th></th>\n",
       "      <th>country</th>\n",
       "      <th>name</th>\n",
       "      <th>world_6region</th>\n",
       "    </tr>\n",
       "  </thead>\n",
       "  <tbody>\n",
       "    <tr>\n",
       "      <th>0</th>\n",
       "      <td>abkh</td>\n",
       "      <td>Abkhazia</td>\n",
       "      <td>europe_central_asia</td>\n",
       "    </tr>\n",
       "    <tr>\n",
       "      <th>1</th>\n",
       "      <td>abw</td>\n",
       "      <td>Aruba</td>\n",
       "      <td>america</td>\n",
       "    </tr>\n",
       "  </tbody>\n",
       "</table>\n",
       "</div>"
      ],
      "text/plain": [
       "  country      name        world_6region\n",
       "0    abkh  Abkhazia  europe_central_asia\n",
       "1     abw     Aruba              america"
      ]
     },
     "execution_count": 5,
     "metadata": {},
     "output_type": "execute_result"
    }
   ],
   "source": [
    "# Keeping only the needed columns in the Dataframe.\n",
    "df_country = df_country[['country','name','world_6region']]\n",
    "df_country.head(2)"
   ]
  },
  {
   "cell_type": "code",
   "execution_count": 6,
   "metadata": {},
   "outputs": [],
   "source": [
    "# Saving the country list into a new .csv file\n",
    "df_country.to_csv('country_region.csv', index=False)"
   ]
  },
  {
   "cell_type": "markdown",
   "metadata": {},
   "source": [
    "#### Step 2: \n",
    "Merging unemployment data files (2.a. and 2.b.) into a single Dataframe. "
   ]
  },
  {
   "cell_type": "code",
   "execution_count": 7,
   "metadata": {
    "scrolled": true
   },
   "outputs": [
    {
     "data": {
      "text/html": [
       "<div>\n",
       "<style scoped>\n",
       "    .dataframe tbody tr th:only-of-type {\n",
       "        vertical-align: middle;\n",
       "    }\n",
       "\n",
       "    .dataframe tbody tr th {\n",
       "        vertical-align: top;\n",
       "    }\n",
       "\n",
       "    .dataframe thead th {\n",
       "        text-align: right;\n",
       "    }\n",
       "</style>\n",
       "<table border=\"1\" class=\"dataframe\">\n",
       "  <thead>\n",
       "    <tr style=\"text-align: right;\">\n",
       "      <th></th>\n",
       "      <th>geo</th>\n",
       "      <th>time</th>\n",
       "      <th>females_aged_15_24_unemployment_rate_percent</th>\n",
       "    </tr>\n",
       "  </thead>\n",
       "  <tbody>\n",
       "    <tr>\n",
       "      <th>0</th>\n",
       "      <td>abw</td>\n",
       "      <td>2007</td>\n",
       "      <td>22.9000</td>\n",
       "    </tr>\n",
       "    <tr>\n",
       "      <th>1</th>\n",
       "      <td>afg</td>\n",
       "      <td>2008</td>\n",
       "      <td>3.9516</td>\n",
       "    </tr>\n",
       "  </tbody>\n",
       "</table>\n",
       "</div>"
      ],
      "text/plain": [
       "   geo  time  females_aged_15_24_unemployment_rate_percent\n",
       "0  abw  2007                                       22.9000\n",
       "1  afg  2008                                        3.9516"
      ]
     },
     "execution_count": 7,
     "metadata": {},
     "output_type": "execute_result"
    }
   ],
   "source": [
    "# Females, Age group: 15-24\n",
    "df_unemp_f_15_24 = pd.read_csv('ddf--datapoints--females_aged_15_24_unemployment_rate_percent--by--geo--time.csv')\n",
    "df_unemp_f_15_24.head(2)"
   ]
  },
  {
   "cell_type": "code",
   "execution_count": 8,
   "metadata": {},
   "outputs": [
    {
     "data": {
      "text/plain": [
       "(2266, 3)"
      ]
     },
     "execution_count": 8,
     "metadata": {},
     "output_type": "execute_result"
    }
   ],
   "source": [
    "df_unemp_f_15_24.shape"
   ]
  },
  {
   "cell_type": "code",
   "execution_count": 9,
   "metadata": {},
   "outputs": [],
   "source": [
    "# Adding columns for Age group and Gender\n",
    "df_unemp_f_15_24['age_group']= '15-24'\n",
    "df_unemp_f_15_24['gender']= 'female'\n",
    "df_unemp_f_15_24.rename(columns={'females_aged_15_24_unemployment_rate_percent':'unemployment_percent'}, inplace=True)"
   ]
  },
  {
   "cell_type": "code",
   "execution_count": 10,
   "metadata": {},
   "outputs": [
    {
     "data": {
      "text/html": [
       "<div>\n",
       "<style scoped>\n",
       "    .dataframe tbody tr th:only-of-type {\n",
       "        vertical-align: middle;\n",
       "    }\n",
       "\n",
       "    .dataframe tbody tr th {\n",
       "        vertical-align: top;\n",
       "    }\n",
       "\n",
       "    .dataframe thead th {\n",
       "        text-align: right;\n",
       "    }\n",
       "</style>\n",
       "<table border=\"1\" class=\"dataframe\">\n",
       "  <thead>\n",
       "    <tr style=\"text-align: right;\">\n",
       "      <th></th>\n",
       "      <th>time</th>\n",
       "      <th>geo</th>\n",
       "      <th>age_group</th>\n",
       "      <th>gender</th>\n",
       "      <th>unemployment_percent</th>\n",
       "    </tr>\n",
       "  </thead>\n",
       "  <tbody>\n",
       "    <tr>\n",
       "      <th>0</th>\n",
       "      <td>2007</td>\n",
       "      <td>abw</td>\n",
       "      <td>15-24</td>\n",
       "      <td>female</td>\n",
       "      <td>22.9000</td>\n",
       "    </tr>\n",
       "    <tr>\n",
       "      <th>1</th>\n",
       "      <td>2008</td>\n",
       "      <td>afg</td>\n",
       "      <td>15-24</td>\n",
       "      <td>female</td>\n",
       "      <td>3.9516</td>\n",
       "    </tr>\n",
       "  </tbody>\n",
       "</table>\n",
       "</div>"
      ],
      "text/plain": [
       "   time  geo age_group  gender  unemployment_percent\n",
       "0  2007  abw     15-24  female               22.9000\n",
       "1  2008  afg     15-24  female                3.9516"
      ]
     },
     "execution_count": 10,
     "metadata": {},
     "output_type": "execute_result"
    }
   ],
   "source": [
    "# Restructuring the columns\n",
    "df_unemp_f_15_24 = df_unemp_f_15_24[['time','geo','age_group','gender','unemployment_percent']]\n",
    "df_unemp_f_15_24.head(2)"
   ]
  },
  {
   "cell_type": "code",
   "execution_count": 11,
   "metadata": {},
   "outputs": [
    {
     "data": {
      "text/plain": [
       "0"
      ]
     },
     "execution_count": 11,
     "metadata": {},
     "output_type": "execute_result"
    }
   ],
   "source": [
    "#confirm no duplicates\n",
    "sum(df_unemp_f_15_24.duplicated())"
   ]
  },
  {
   "cell_type": "code",
   "execution_count": 12,
   "metadata": {},
   "outputs": [
    {
     "data": {
      "text/plain": [
       "(2250, 3)"
      ]
     },
     "execution_count": 12,
     "metadata": {},
     "output_type": "execute_result"
    }
   ],
   "source": [
    "# Females, Age group: 25-54\n",
    "df_unemp_f_25_54 = pd.read_csv('ddf--datapoints--females_aged_25_54_unemployment_rate_percent--by--geo--time.csv')\n",
    "df_unemp_f_25_54.shape"
   ]
  },
  {
   "cell_type": "code",
   "execution_count": 13,
   "metadata": {},
   "outputs": [],
   "source": [
    "df_unemp_f_25_54['age_group']= '25-54'\n",
    "df_unemp_f_25_54['gender']= 'female'\n",
    "df_unemp_f_25_54.rename(columns={'females_aged_25_54_unemployment_rate_percent':'unemployment_percent'}, inplace=True)"
   ]
  },
  {
   "cell_type": "code",
   "execution_count": 14,
   "metadata": {},
   "outputs": [
    {
     "data": {
      "text/html": [
       "<div>\n",
       "<style scoped>\n",
       "    .dataframe tbody tr th:only-of-type {\n",
       "        vertical-align: middle;\n",
       "    }\n",
       "\n",
       "    .dataframe tbody tr th {\n",
       "        vertical-align: top;\n",
       "    }\n",
       "\n",
       "    .dataframe thead th {\n",
       "        text-align: right;\n",
       "    }\n",
       "</style>\n",
       "<table border=\"1\" class=\"dataframe\">\n",
       "  <thead>\n",
       "    <tr style=\"text-align: right;\">\n",
       "      <th></th>\n",
       "      <th>time</th>\n",
       "      <th>geo</th>\n",
       "      <th>age_group</th>\n",
       "      <th>gender</th>\n",
       "      <th>unemployment_percent</th>\n",
       "    </tr>\n",
       "  </thead>\n",
       "  <tbody>\n",
       "    <tr>\n",
       "      <th>0</th>\n",
       "      <td>2007</td>\n",
       "      <td>abw</td>\n",
       "      <td>25-54</td>\n",
       "      <td>female</td>\n",
       "      <td>4.9600</td>\n",
       "    </tr>\n",
       "    <tr>\n",
       "      <th>1</th>\n",
       "      <td>2008</td>\n",
       "      <td>afg</td>\n",
       "      <td>25-54</td>\n",
       "      <td>female</td>\n",
       "      <td>1.4183</td>\n",
       "    </tr>\n",
       "  </tbody>\n",
       "</table>\n",
       "</div>"
      ],
      "text/plain": [
       "   time  geo age_group  gender  unemployment_percent\n",
       "0  2007  abw     25-54  female                4.9600\n",
       "1  2008  afg     25-54  female                1.4183"
      ]
     },
     "execution_count": 14,
     "metadata": {},
     "output_type": "execute_result"
    }
   ],
   "source": [
    "df_unemp_f_25_54 = df_unemp_f_25_54[['time','geo','age_group','gender','unemployment_percent']]\n",
    "df_unemp_f_25_54.head(2)"
   ]
  },
  {
   "cell_type": "code",
   "execution_count": 15,
   "metadata": {},
   "outputs": [
    {
     "data": {
      "text/plain": [
       "(2078, 3)"
      ]
     },
     "execution_count": 15,
     "metadata": {},
     "output_type": "execute_result"
    }
   ],
   "source": [
    "# Females, Age group: 55-64\n",
    "df_unemp_f_55_64 = pd.read_csv('ddf--datapoints--females_aged_55_64_unemployment_rate_percent--by--geo--time.csv')\n",
    "df_unemp_f_55_64.shape"
   ]
  },
  {
   "cell_type": "code",
   "execution_count": 16,
   "metadata": {},
   "outputs": [],
   "source": [
    "df_unemp_f_55_64['age_group']= '55-64'\n",
    "df_unemp_f_55_64['gender']= 'female'\n",
    "df_unemp_f_55_64.rename(columns={'females_aged_55_64_unemployment_rate_percent':'unemployment_percent'}, inplace=True)"
   ]
  },
  {
   "cell_type": "code",
   "execution_count": 17,
   "metadata": {},
   "outputs": [
    {
     "data": {
      "text/html": [
       "<div>\n",
       "<style scoped>\n",
       "    .dataframe tbody tr th:only-of-type {\n",
       "        vertical-align: middle;\n",
       "    }\n",
       "\n",
       "    .dataframe tbody tr th {\n",
       "        vertical-align: top;\n",
       "    }\n",
       "\n",
       "    .dataframe thead th {\n",
       "        text-align: right;\n",
       "    }\n",
       "</style>\n",
       "<table border=\"1\" class=\"dataframe\">\n",
       "  <thead>\n",
       "    <tr style=\"text-align: right;\">\n",
       "      <th></th>\n",
       "      <th>time</th>\n",
       "      <th>geo</th>\n",
       "      <th>age_group</th>\n",
       "      <th>gender</th>\n",
       "      <th>unemployment_percent</th>\n",
       "    </tr>\n",
       "  </thead>\n",
       "  <tbody>\n",
       "    <tr>\n",
       "      <th>0</th>\n",
       "      <td>2007</td>\n",
       "      <td>abw</td>\n",
       "      <td>55-64</td>\n",
       "      <td>female</td>\n",
       "      <td>1.6700</td>\n",
       "    </tr>\n",
       "    <tr>\n",
       "      <th>1</th>\n",
       "      <td>2008</td>\n",
       "      <td>afg</td>\n",
       "      <td>55-64</td>\n",
       "      <td>female</td>\n",
       "      <td>1.8512</td>\n",
       "    </tr>\n",
       "  </tbody>\n",
       "</table>\n",
       "</div>"
      ],
      "text/plain": [
       "   time  geo age_group  gender  unemployment_percent\n",
       "0  2007  abw     55-64  female                1.6700\n",
       "1  2008  afg     55-64  female                1.8512"
      ]
     },
     "execution_count": 17,
     "metadata": {},
     "output_type": "execute_result"
    }
   ],
   "source": [
    "df_unemp_f_55_64 = df_unemp_f_55_64[['time','geo','age_group','gender','unemployment_percent']]\n",
    "df_unemp_f_55_64.head(2)"
   ]
  },
  {
   "cell_type": "code",
   "execution_count": 18,
   "metadata": {},
   "outputs": [
    {
     "data": {
      "text/plain": [
       "(1279, 3)"
      ]
     },
     "execution_count": 18,
     "metadata": {},
     "output_type": "execute_result"
    }
   ],
   "source": [
    "# Females, Age group: 65+\n",
    "df_unemp_f_65 = pd.read_csv('ddf--datapoints--females_aged_65plus_unemployment_rate_percent--by--geo--time.csv')\n",
    "df_unemp_f_65.shape"
   ]
  },
  {
   "cell_type": "code",
   "execution_count": 19,
   "metadata": {},
   "outputs": [],
   "source": [
    "df_unemp_f_65['age_group']= '65+'\n",
    "df_unemp_f_65['gender']= 'female'\n",
    "df_unemp_f_65.rename(columns={'females_aged_65plus_unemployment_rate_percent':'unemployment_percent'}, inplace=True)"
   ]
  },
  {
   "cell_type": "code",
   "execution_count": 20,
   "metadata": {},
   "outputs": [
    {
     "data": {
      "text/html": [
       "<div>\n",
       "<style scoped>\n",
       "    .dataframe tbody tr th:only-of-type {\n",
       "        vertical-align: middle;\n",
       "    }\n",
       "\n",
       "    .dataframe tbody tr th {\n",
       "        vertical-align: top;\n",
       "    }\n",
       "\n",
       "    .dataframe thead th {\n",
       "        text-align: right;\n",
       "    }\n",
       "</style>\n",
       "<table border=\"1\" class=\"dataframe\">\n",
       "  <thead>\n",
       "    <tr style=\"text-align: right;\">\n",
       "      <th></th>\n",
       "      <th>time</th>\n",
       "      <th>geo</th>\n",
       "      <th>age_group</th>\n",
       "      <th>gender</th>\n",
       "      <th>unemployment_percent</th>\n",
       "    </tr>\n",
       "  </thead>\n",
       "  <tbody>\n",
       "    <tr>\n",
       "      <th>0</th>\n",
       "      <td>2007</td>\n",
       "      <td>abw</td>\n",
       "      <td>65+</td>\n",
       "      <td>female</td>\n",
       "      <td>22.010</td>\n",
       "    </tr>\n",
       "    <tr>\n",
       "      <th>1</th>\n",
       "      <td>2008</td>\n",
       "      <td>afg</td>\n",
       "      <td>65+</td>\n",
       "      <td>female</td>\n",
       "      <td>5.654</td>\n",
       "    </tr>\n",
       "  </tbody>\n",
       "</table>\n",
       "</div>"
      ],
      "text/plain": [
       "   time  geo age_group  gender  unemployment_percent\n",
       "0  2007  abw       65+  female                22.010\n",
       "1  2008  afg       65+  female                 5.654"
      ]
     },
     "execution_count": 20,
     "metadata": {},
     "output_type": "execute_result"
    }
   ],
   "source": [
    "df_unemp_f_65 = df_unemp_f_65[['time','geo','age_group','gender','unemployment_percent']]\n",
    "df_unemp_f_65.head(2)"
   ]
  },
  {
   "cell_type": "code",
   "execution_count": 21,
   "metadata": {},
   "outputs": [
    {
     "data": {
      "text/html": [
       "<div>\n",
       "<style scoped>\n",
       "    .dataframe tbody tr th:only-of-type {\n",
       "        vertical-align: middle;\n",
       "    }\n",
       "\n",
       "    .dataframe tbody tr th {\n",
       "        vertical-align: top;\n",
       "    }\n",
       "\n",
       "    .dataframe thead th {\n",
       "        text-align: right;\n",
       "    }\n",
       "</style>\n",
       "<table border=\"1\" class=\"dataframe\">\n",
       "  <thead>\n",
       "    <tr style=\"text-align: right;\">\n",
       "      <th></th>\n",
       "      <th>geo</th>\n",
       "      <th>time</th>\n",
       "      <th>males_aged_15_24_unemployment_rate_percent</th>\n",
       "    </tr>\n",
       "  </thead>\n",
       "  <tbody>\n",
       "    <tr>\n",
       "      <th>0</th>\n",
       "      <td>abw</td>\n",
       "      <td>2007</td>\n",
       "      <td>23.5100</td>\n",
       "    </tr>\n",
       "    <tr>\n",
       "      <th>1</th>\n",
       "      <td>afg</td>\n",
       "      <td>2008</td>\n",
       "      <td>4.0948</td>\n",
       "    </tr>\n",
       "  </tbody>\n",
       "</table>\n",
       "</div>"
      ],
      "text/plain": [
       "   geo  time  males_aged_15_24_unemployment_rate_percent\n",
       "0  abw  2007                                     23.5100\n",
       "1  afg  2008                                      4.0948"
      ]
     },
     "execution_count": 21,
     "metadata": {},
     "output_type": "execute_result"
    }
   ],
   "source": [
    "# Males, Age group: 15-24\n",
    "df_unemp_m_15_24 = pd.read_csv('ddf--datapoints--males_aged_15_24_unemployment_rate_percent--by--geo--time.csv')\n",
    "df_unemp_m_15_24.head(2)"
   ]
  },
  {
   "cell_type": "code",
   "execution_count": 22,
   "metadata": {},
   "outputs": [
    {
     "data": {
      "text/html": [
       "<div>\n",
       "<style scoped>\n",
       "    .dataframe tbody tr th:only-of-type {\n",
       "        vertical-align: middle;\n",
       "    }\n",
       "\n",
       "    .dataframe tbody tr th {\n",
       "        vertical-align: top;\n",
       "    }\n",
       "\n",
       "    .dataframe thead th {\n",
       "        text-align: right;\n",
       "    }\n",
       "</style>\n",
       "<table border=\"1\" class=\"dataframe\">\n",
       "  <thead>\n",
       "    <tr style=\"text-align: right;\">\n",
       "      <th></th>\n",
       "      <th>time</th>\n",
       "      <th>geo</th>\n",
       "      <th>age_group</th>\n",
       "      <th>gender</th>\n",
       "      <th>unemployment_percent</th>\n",
       "    </tr>\n",
       "  </thead>\n",
       "  <tbody>\n",
       "    <tr>\n",
       "      <th>0</th>\n",
       "      <td>2007</td>\n",
       "      <td>abw</td>\n",
       "      <td>15-24</td>\n",
       "      <td>male</td>\n",
       "      <td>23.5100</td>\n",
       "    </tr>\n",
       "    <tr>\n",
       "      <th>1</th>\n",
       "      <td>2008</td>\n",
       "      <td>afg</td>\n",
       "      <td>15-24</td>\n",
       "      <td>male</td>\n",
       "      <td>4.0948</td>\n",
       "    </tr>\n",
       "  </tbody>\n",
       "</table>\n",
       "</div>"
      ],
      "text/plain": [
       "   time  geo age_group gender  unemployment_percent\n",
       "0  2007  abw     15-24   male               23.5100\n",
       "1  2008  afg     15-24   male                4.0948"
      ]
     },
     "execution_count": 22,
     "metadata": {},
     "output_type": "execute_result"
    }
   ],
   "source": [
    "df_unemp_m_15_24['age_group']= '15-24'\n",
    "df_unemp_m_15_24['gender']= 'male'\n",
    "df_unemp_m_15_24.rename(columns={'males_aged_15_24_unemployment_rate_percent':'unemployment_percent'}, inplace=True)\n",
    "df_unemp_m_15_24 = df_unemp_m_15_24[['time','geo','age_group','gender','unemployment_percent']]\n",
    "df_unemp_m_15_24.head(2)"
   ]
  },
  {
   "cell_type": "code",
   "execution_count": 23,
   "metadata": {},
   "outputs": [
    {
     "data": {
      "text/html": [
       "<div>\n",
       "<style scoped>\n",
       "    .dataframe tbody tr th:only-of-type {\n",
       "        vertical-align: middle;\n",
       "    }\n",
       "\n",
       "    .dataframe tbody tr th {\n",
       "        vertical-align: top;\n",
       "    }\n",
       "\n",
       "    .dataframe thead th {\n",
       "        text-align: right;\n",
       "    }\n",
       "</style>\n",
       "<table border=\"1\" class=\"dataframe\">\n",
       "  <thead>\n",
       "    <tr style=\"text-align: right;\">\n",
       "      <th></th>\n",
       "      <th>geo</th>\n",
       "      <th>time</th>\n",
       "      <th>males_aged_25_54_unemployment_rate_percent</th>\n",
       "    </tr>\n",
       "  </thead>\n",
       "  <tbody>\n",
       "    <tr>\n",
       "      <th>0</th>\n",
       "      <td>abw</td>\n",
       "      <td>2007</td>\n",
       "      <td>2.3100</td>\n",
       "    </tr>\n",
       "    <tr>\n",
       "      <th>1</th>\n",
       "      <td>afg</td>\n",
       "      <td>2008</td>\n",
       "      <td>1.8658</td>\n",
       "    </tr>\n",
       "  </tbody>\n",
       "</table>\n",
       "</div>"
      ],
      "text/plain": [
       "   geo  time  males_aged_25_54_unemployment_rate_percent\n",
       "0  abw  2007                                      2.3100\n",
       "1  afg  2008                                      1.8658"
      ]
     },
     "execution_count": 23,
     "metadata": {},
     "output_type": "execute_result"
    }
   ],
   "source": [
    "# Males, Age group: 25-54\n",
    "df_unemp_m_25_54 = pd.read_csv('ddf--datapoints--males_aged_25_54_unemployment_rate_percent--by--geo--time.csv')\n",
    "df_unemp_m_25_54.head(2)"
   ]
  },
  {
   "cell_type": "code",
   "execution_count": 24,
   "metadata": {},
   "outputs": [
    {
     "data": {
      "text/html": [
       "<div>\n",
       "<style scoped>\n",
       "    .dataframe tbody tr th:only-of-type {\n",
       "        vertical-align: middle;\n",
       "    }\n",
       "\n",
       "    .dataframe tbody tr th {\n",
       "        vertical-align: top;\n",
       "    }\n",
       "\n",
       "    .dataframe thead th {\n",
       "        text-align: right;\n",
       "    }\n",
       "</style>\n",
       "<table border=\"1\" class=\"dataframe\">\n",
       "  <thead>\n",
       "    <tr style=\"text-align: right;\">\n",
       "      <th></th>\n",
       "      <th>time</th>\n",
       "      <th>geo</th>\n",
       "      <th>age_group</th>\n",
       "      <th>gender</th>\n",
       "      <th>unemployment_percent</th>\n",
       "    </tr>\n",
       "  </thead>\n",
       "  <tbody>\n",
       "    <tr>\n",
       "      <th>0</th>\n",
       "      <td>2007</td>\n",
       "      <td>abw</td>\n",
       "      <td>25-54</td>\n",
       "      <td>male</td>\n",
       "      <td>2.3100</td>\n",
       "    </tr>\n",
       "    <tr>\n",
       "      <th>1</th>\n",
       "      <td>2008</td>\n",
       "      <td>afg</td>\n",
       "      <td>25-54</td>\n",
       "      <td>male</td>\n",
       "      <td>1.8658</td>\n",
       "    </tr>\n",
       "  </tbody>\n",
       "</table>\n",
       "</div>"
      ],
      "text/plain": [
       "   time  geo age_group gender  unemployment_percent\n",
       "0  2007  abw     25-54   male                2.3100\n",
       "1  2008  afg     25-54   male                1.8658"
      ]
     },
     "execution_count": 24,
     "metadata": {},
     "output_type": "execute_result"
    }
   ],
   "source": [
    "df_unemp_m_25_54['age_group']= '25-54'\n",
    "df_unemp_m_25_54['gender']= 'male'\n",
    "df_unemp_m_25_54.rename(columns={'males_aged_25_54_unemployment_rate_percent':'unemployment_percent'}, inplace=True)\n",
    "df_unemp_m_25_54 = df_unemp_m_25_54[['time','geo','age_group','gender','unemployment_percent']]\n",
    "df_unemp_m_25_54.head(2)"
   ]
  },
  {
   "cell_type": "code",
   "execution_count": 25,
   "metadata": {},
   "outputs": [
    {
     "data": {
      "text/html": [
       "<div>\n",
       "<style scoped>\n",
       "    .dataframe tbody tr th:only-of-type {\n",
       "        vertical-align: middle;\n",
       "    }\n",
       "\n",
       "    .dataframe tbody tr th {\n",
       "        vertical-align: top;\n",
       "    }\n",
       "\n",
       "    .dataframe thead th {\n",
       "        text-align: right;\n",
       "    }\n",
       "</style>\n",
       "<table border=\"1\" class=\"dataframe\">\n",
       "  <thead>\n",
       "    <tr style=\"text-align: right;\">\n",
       "      <th></th>\n",
       "      <th>geo</th>\n",
       "      <th>time</th>\n",
       "      <th>males_aged_55_64_unemployment_rate_percent</th>\n",
       "    </tr>\n",
       "  </thead>\n",
       "  <tbody>\n",
       "    <tr>\n",
       "      <th>0</th>\n",
       "      <td>abw</td>\n",
       "      <td>2007</td>\n",
       "      <td>4.2200</td>\n",
       "    </tr>\n",
       "    <tr>\n",
       "      <th>1</th>\n",
       "      <td>afg</td>\n",
       "      <td>2008</td>\n",
       "      <td>2.6884</td>\n",
       "    </tr>\n",
       "  </tbody>\n",
       "</table>\n",
       "</div>"
      ],
      "text/plain": [
       "   geo  time  males_aged_55_64_unemployment_rate_percent\n",
       "0  abw  2007                                      4.2200\n",
       "1  afg  2008                                      2.6884"
      ]
     },
     "execution_count": 25,
     "metadata": {},
     "output_type": "execute_result"
    }
   ],
   "source": [
    "# Males, Age group: 55-64\n",
    "df_unemp_m_55_64 = pd.read_csv('ddf--datapoints--males_aged_55_64_unemployment_rate_percent--by--geo--time.csv')\n",
    "df_unemp_m_55_64.head(2)"
   ]
  },
  {
   "cell_type": "code",
   "execution_count": 26,
   "metadata": {},
   "outputs": [
    {
     "data": {
      "text/html": [
       "<div>\n",
       "<style scoped>\n",
       "    .dataframe tbody tr th:only-of-type {\n",
       "        vertical-align: middle;\n",
       "    }\n",
       "\n",
       "    .dataframe tbody tr th {\n",
       "        vertical-align: top;\n",
       "    }\n",
       "\n",
       "    .dataframe thead th {\n",
       "        text-align: right;\n",
       "    }\n",
       "</style>\n",
       "<table border=\"1\" class=\"dataframe\">\n",
       "  <thead>\n",
       "    <tr style=\"text-align: right;\">\n",
       "      <th></th>\n",
       "      <th>time</th>\n",
       "      <th>geo</th>\n",
       "      <th>age_group</th>\n",
       "      <th>gender</th>\n",
       "      <th>unemployment_percent</th>\n",
       "    </tr>\n",
       "  </thead>\n",
       "  <tbody>\n",
       "    <tr>\n",
       "      <th>0</th>\n",
       "      <td>2007</td>\n",
       "      <td>abw</td>\n",
       "      <td>55-64</td>\n",
       "      <td>male</td>\n",
       "      <td>4.2200</td>\n",
       "    </tr>\n",
       "    <tr>\n",
       "      <th>1</th>\n",
       "      <td>2008</td>\n",
       "      <td>afg</td>\n",
       "      <td>55-64</td>\n",
       "      <td>male</td>\n",
       "      <td>2.6884</td>\n",
       "    </tr>\n",
       "  </tbody>\n",
       "</table>\n",
       "</div>"
      ],
      "text/plain": [
       "   time  geo age_group gender  unemployment_percent\n",
       "0  2007  abw     55-64   male                4.2200\n",
       "1  2008  afg     55-64   male                2.6884"
      ]
     },
     "execution_count": 26,
     "metadata": {},
     "output_type": "execute_result"
    }
   ],
   "source": [
    "df_unemp_m_55_64['age_group']= '55-64'\n",
    "df_unemp_m_55_64['gender']= 'male'\n",
    "df_unemp_m_55_64.rename(columns={'males_aged_55_64_unemployment_rate_percent':'unemployment_percent'}, inplace=True)\n",
    "df_unemp_m_55_64 = df_unemp_m_55_64[['time','geo','age_group','gender','unemployment_percent']]\n",
    "df_unemp_m_55_64.head(2)"
   ]
  },
  {
   "cell_type": "code",
   "execution_count": 27,
   "metadata": {},
   "outputs": [
    {
     "data": {
      "text/html": [
       "<div>\n",
       "<style scoped>\n",
       "    .dataframe tbody tr th:only-of-type {\n",
       "        vertical-align: middle;\n",
       "    }\n",
       "\n",
       "    .dataframe tbody tr th {\n",
       "        vertical-align: top;\n",
       "    }\n",
       "\n",
       "    .dataframe thead th {\n",
       "        text-align: right;\n",
       "    }\n",
       "</style>\n",
       "<table border=\"1\" class=\"dataframe\">\n",
       "  <thead>\n",
       "    <tr style=\"text-align: right;\">\n",
       "      <th></th>\n",
       "      <th>geo</th>\n",
       "      <th>time</th>\n",
       "      <th>males_aged_65plus_unemployment_rate_percent</th>\n",
       "    </tr>\n",
       "  </thead>\n",
       "  <tbody>\n",
       "    <tr>\n",
       "      <th>0</th>\n",
       "      <td>afg</td>\n",
       "      <td>2008</td>\n",
       "      <td>3.6672</td>\n",
       "    </tr>\n",
       "    <tr>\n",
       "      <th>1</th>\n",
       "      <td>afg</td>\n",
       "      <td>2012</td>\n",
       "      <td>0.7929</td>\n",
       "    </tr>\n",
       "  </tbody>\n",
       "</table>\n",
       "</div>"
      ],
      "text/plain": [
       "   geo  time  males_aged_65plus_unemployment_rate_percent\n",
       "0  afg  2008                                       3.6672\n",
       "1  afg  2012                                       0.7929"
      ]
     },
     "execution_count": 27,
     "metadata": {},
     "output_type": "execute_result"
    }
   ],
   "source": [
    "# Males, Age group: 65+\n",
    "df_unemp_m_65 = pd.read_csv('ddf--datapoints--males_aged_65plus_unemployment_rate_percent--by--geo--time.csv')\n",
    "df_unemp_m_65.head(2)"
   ]
  },
  {
   "cell_type": "code",
   "execution_count": 28,
   "metadata": {},
   "outputs": [
    {
     "data": {
      "text/html": [
       "<div>\n",
       "<style scoped>\n",
       "    .dataframe tbody tr th:only-of-type {\n",
       "        vertical-align: middle;\n",
       "    }\n",
       "\n",
       "    .dataframe tbody tr th {\n",
       "        vertical-align: top;\n",
       "    }\n",
       "\n",
       "    .dataframe thead th {\n",
       "        text-align: right;\n",
       "    }\n",
       "</style>\n",
       "<table border=\"1\" class=\"dataframe\">\n",
       "  <thead>\n",
       "    <tr style=\"text-align: right;\">\n",
       "      <th></th>\n",
       "      <th>time</th>\n",
       "      <th>geo</th>\n",
       "      <th>age_group</th>\n",
       "      <th>gender</th>\n",
       "      <th>unemployment_percent</th>\n",
       "    </tr>\n",
       "  </thead>\n",
       "  <tbody>\n",
       "    <tr>\n",
       "      <th>0</th>\n",
       "      <td>2008</td>\n",
       "      <td>afg</td>\n",
       "      <td>65+</td>\n",
       "      <td>male</td>\n",
       "      <td>3.6672</td>\n",
       "    </tr>\n",
       "    <tr>\n",
       "      <th>1</th>\n",
       "      <td>2012</td>\n",
       "      <td>afg</td>\n",
       "      <td>65+</td>\n",
       "      <td>male</td>\n",
       "      <td>0.7929</td>\n",
       "    </tr>\n",
       "  </tbody>\n",
       "</table>\n",
       "</div>"
      ],
      "text/plain": [
       "   time  geo age_group gender  unemployment_percent\n",
       "0  2008  afg       65+   male                3.6672\n",
       "1  2012  afg       65+   male                0.7929"
      ]
     },
     "execution_count": 28,
     "metadata": {},
     "output_type": "execute_result"
    }
   ],
   "source": [
    "df_unemp_m_65['age_group']= '65+'\n",
    "df_unemp_m_65['gender']= 'male'\n",
    "df_unemp_m_65.rename(columns={'males_aged_65plus_unemployment_rate_percent':'unemployment_percent'}, inplace=True)\n",
    "df_unemp_m_65 = df_unemp_m_65[['time','geo','age_group','gender','unemployment_percent']]\n",
    "df_unemp_m_65.head(2)"
   ]
  },
  {
   "cell_type": "code",
   "execution_count": 29,
   "metadata": {},
   "outputs": [
    {
     "data": {
      "text/plain": [
       "(16120, 5)"
      ]
     },
     "execution_count": 29,
     "metadata": {},
     "output_type": "execute_result"
    }
   ],
   "source": [
    "# Using pd.concat to join all the data frames together in one go.\n",
    "df_unemp = pd.concat([df_unemp_f_15_24, df_unemp_f_25_54, df_unemp_f_55_64, df_unemp_f_65, df_unemp_m_15_24, df_unemp_m_25_54, df_unemp_m_55_64, df_unemp_m_65], ignore_index=True)\n",
    "df_unemp.shape"
   ]
  },
  {
   "cell_type": "code",
   "execution_count": 30,
   "metadata": {},
   "outputs": [
    {
     "data": {
      "text/plain": [
       "0"
      ]
     },
     "execution_count": 30,
     "metadata": {},
     "output_type": "execute_result"
    }
   ],
   "source": [
    "#confirm no duplicates\n",
    "sum(df_unemp.duplicated())"
   ]
  },
  {
   "cell_type": "code",
   "execution_count": 31,
   "metadata": {},
   "outputs": [],
   "source": [
    "# Save unemployment data to a csv file\n",
    "df_unemp.to_csv('unemployment_data.csv', index=False)"
   ]
  },
  {
   "cell_type": "markdown",
   "metadata": {},
   "source": [
    "#### Step 3: \n",
    "Merging mean school years data files (2.c. and 2.d.) into a single Dataframe. "
   ]
  },
  {
   "cell_type": "code",
   "execution_count": 32,
   "metadata": {},
   "outputs": [
    {
     "data": {
      "text/html": [
       "<div>\n",
       "<style scoped>\n",
       "    .dataframe tbody tr th:only-of-type {\n",
       "        vertical-align: middle;\n",
       "    }\n",
       "\n",
       "    .dataframe tbody tr th {\n",
       "        vertical-align: top;\n",
       "    }\n",
       "\n",
       "    .dataframe thead th {\n",
       "        text-align: right;\n",
       "    }\n",
       "</style>\n",
       "<table border=\"1\" class=\"dataframe\">\n",
       "  <thead>\n",
       "    <tr style=\"text-align: right;\">\n",
       "      <th></th>\n",
       "      <th>geo</th>\n",
       "      <th>time</th>\n",
       "      <th>mean_years_in_school_men_25_to_34_years</th>\n",
       "      <th>mean_years_in_school_men_35_to_44_years</th>\n",
       "      <th>mean_years_in_school_men_45_to_54_years</th>\n",
       "      <th>mean</th>\n",
       "    </tr>\n",
       "  </thead>\n",
       "  <tbody>\n",
       "    <tr>\n",
       "      <th>0</th>\n",
       "      <td>afg</td>\n",
       "      <td>1970</td>\n",
       "      <td>1.36</td>\n",
       "      <td>1.16</td>\n",
       "      <td>1.06</td>\n",
       "      <td>1.193333</td>\n",
       "    </tr>\n",
       "    <tr>\n",
       "      <th>1</th>\n",
       "      <td>afg</td>\n",
       "      <td>1971</td>\n",
       "      <td>1.39</td>\n",
       "      <td>1.19</td>\n",
       "      <td>1.09</td>\n",
       "      <td>1.223333</td>\n",
       "    </tr>\n",
       "  </tbody>\n",
       "</table>\n",
       "</div>"
      ],
      "text/plain": [
       "   geo  time  mean_years_in_school_men_25_to_34_years  \\\n",
       "0  afg  1970                                     1.36   \n",
       "1  afg  1971                                     1.39   \n",
       "\n",
       "   mean_years_in_school_men_35_to_44_years  \\\n",
       "0                                     1.16   \n",
       "1                                     1.19   \n",
       "\n",
       "   mean_years_in_school_men_45_to_54_years      mean  \n",
       "0                                     1.06  1.193333  \n",
       "1                                     1.09  1.223333  "
      ]
     },
     "execution_count": 32,
     "metadata": {},
     "output_type": "execute_result"
    }
   ],
   "source": [
    "#Merging middle years' files (25-34, 35-44, 45-54) for males in a single file to match the age groups in the unemployment percentage file. \n",
    "df_25_male = pd.read_csv('ddf--datapoints--mean_years_in_school_men_25_to_34_years--by--geo--time.csv')\n",
    "df_35_male = pd.read_csv('ddf--datapoints--mean_years_in_school_men_35_to_44_years--by--geo--time.csv')\n",
    "df_45_male = pd.read_csv('ddf--datapoints--mean_years_in_school_men_45_to_54_years--by--geo--time.csv')\n",
    "df_male = df_25_male.merge(df_35_male, left_on=['geo','time'], right_on=['geo','time'], how='inner')\n",
    "df_male_25_54 = df_male.merge(df_45_male, left_on=['geo','time'], right_on=['geo','time'], how='inner')\n",
    "df_male_25_54['mean'] = df_male_25_54[['mean_years_in_school_men_25_to_34_years','mean_years_in_school_men_35_to_44_years','mean_years_in_school_men_45_to_54_years']].mean(axis=1)\n",
    "df_male_25_54.head(2)"
   ]
  },
  {
   "cell_type": "code",
   "execution_count": 33,
   "metadata": {},
   "outputs": [
    {
     "data": {
      "text/plain": [
       "True"
      ]
     },
     "execution_count": 33,
     "metadata": {},
     "output_type": "execute_result"
    }
   ],
   "source": [
    "#verify that no data has been lost\n",
    "df_25_male.shape == df_35_male.shape and df_35_male.shape == df_45_male.shape and df_male_25_54.shape[0] == df_25_male.shape[0]"
   ]
  },
  {
   "cell_type": "code",
   "execution_count": 34,
   "metadata": {},
   "outputs": [
    {
     "data": {
      "text/html": [
       "<div>\n",
       "<style scoped>\n",
       "    .dataframe tbody tr th:only-of-type {\n",
       "        vertical-align: middle;\n",
       "    }\n",
       "\n",
       "    .dataframe tbody tr th {\n",
       "        vertical-align: top;\n",
       "    }\n",
       "\n",
       "    .dataframe thead th {\n",
       "        text-align: right;\n",
       "    }\n",
       "</style>\n",
       "<table border=\"1\" class=\"dataframe\">\n",
       "  <thead>\n",
       "    <tr style=\"text-align: right;\">\n",
       "      <th></th>\n",
       "      <th>geo</th>\n",
       "      <th>time</th>\n",
       "      <th>mean_school_years</th>\n",
       "    </tr>\n",
       "  </thead>\n",
       "  <tbody>\n",
       "    <tr>\n",
       "      <th>0</th>\n",
       "      <td>afg</td>\n",
       "      <td>1970</td>\n",
       "      <td>1.193333</td>\n",
       "    </tr>\n",
       "    <tr>\n",
       "      <th>1</th>\n",
       "      <td>afg</td>\n",
       "      <td>1971</td>\n",
       "      <td>1.223333</td>\n",
       "    </tr>\n",
       "  </tbody>\n",
       "</table>\n",
       "</div>"
      ],
      "text/plain": [
       "   geo  time  mean_school_years\n",
       "0  afg  1970           1.193333\n",
       "1  afg  1971           1.223333"
      ]
     },
     "execution_count": 34,
     "metadata": {},
     "output_type": "execute_result"
    }
   ],
   "source": [
    "# dropping the intermediate columns & renaming mean column\n",
    "df_male_25_54.drop(labels=['mean_years_in_school_men_25_to_34_years', 'mean_years_in_school_men_35_to_44_years','mean_years_in_school_men_45_to_54_years'], axis=1, inplace=True)\n",
    "df_male_25_54.rename(columns={'mean':'mean_school_years'},inplace=True)\n",
    "df_male_25_54.head(2)"
   ]
  },
  {
   "cell_type": "code",
   "execution_count": 35,
   "metadata": {},
   "outputs": [
    {
     "data": {
      "text/html": [
       "<div>\n",
       "<style scoped>\n",
       "    .dataframe tbody tr th:only-of-type {\n",
       "        vertical-align: middle;\n",
       "    }\n",
       "\n",
       "    .dataframe tbody tr th {\n",
       "        vertical-align: top;\n",
       "    }\n",
       "\n",
       "    .dataframe thead th {\n",
       "        text-align: right;\n",
       "    }\n",
       "</style>\n",
       "<table border=\"1\" class=\"dataframe\">\n",
       "  <thead>\n",
       "    <tr style=\"text-align: right;\">\n",
       "      <th></th>\n",
       "      <th>time</th>\n",
       "      <th>geo</th>\n",
       "      <th>age_group</th>\n",
       "      <th>gender</th>\n",
       "      <th>mean_school_years</th>\n",
       "    </tr>\n",
       "  </thead>\n",
       "  <tbody>\n",
       "    <tr>\n",
       "      <th>0</th>\n",
       "      <td>1970</td>\n",
       "      <td>afg</td>\n",
       "      <td>25-54</td>\n",
       "      <td>male</td>\n",
       "      <td>1.193333</td>\n",
       "    </tr>\n",
       "    <tr>\n",
       "      <th>1</th>\n",
       "      <td>1971</td>\n",
       "      <td>afg</td>\n",
       "      <td>25-54</td>\n",
       "      <td>male</td>\n",
       "      <td>1.223333</td>\n",
       "    </tr>\n",
       "  </tbody>\n",
       "</table>\n",
       "</div>"
      ],
      "text/plain": [
       "   time  geo age_group gender  mean_school_years\n",
       "0  1970  afg     25-54   male           1.193333\n",
       "1  1971  afg     25-54   male           1.223333"
      ]
     },
     "execution_count": 35,
     "metadata": {},
     "output_type": "execute_result"
    }
   ],
   "source": [
    "df_male_25_54['gender']='male'\n",
    "df_male_25_54['age_group']= '25-54'\n",
    "df_male_25_54 = df_male_25_54[['time','geo','age_group','gender','mean_school_years']]\n",
    "df_male_25_54.head(2)"
   ]
  },
  {
   "cell_type": "code",
   "execution_count": 36,
   "metadata": {},
   "outputs": [
    {
     "data": {
      "text/html": [
       "<div>\n",
       "<style scoped>\n",
       "    .dataframe tbody tr th:only-of-type {\n",
       "        vertical-align: middle;\n",
       "    }\n",
       "\n",
       "    .dataframe tbody tr th {\n",
       "        vertical-align: top;\n",
       "    }\n",
       "\n",
       "    .dataframe thead th {\n",
       "        text-align: right;\n",
       "    }\n",
       "</style>\n",
       "<table border=\"1\" class=\"dataframe\">\n",
       "  <thead>\n",
       "    <tr style=\"text-align: right;\">\n",
       "      <th></th>\n",
       "      <th>geo</th>\n",
       "      <th>time</th>\n",
       "      <th>mean_years_in_school_women_25_to_34_years</th>\n",
       "      <th>mean_years_in_school_women_35_to_44_years</th>\n",
       "      <th>mean_years_in_school_women_45_to_54_years</th>\n",
       "      <th>mean_school_years</th>\n",
       "    </tr>\n",
       "  </thead>\n",
       "  <tbody>\n",
       "    <tr>\n",
       "      <th>0</th>\n",
       "      <td>afg</td>\n",
       "      <td>1970</td>\n",
       "      <td>0.21</td>\n",
       "      <td>0.15</td>\n",
       "      <td>0.11</td>\n",
       "      <td>0.156667</td>\n",
       "    </tr>\n",
       "    <tr>\n",
       "      <th>1</th>\n",
       "      <td>afg</td>\n",
       "      <td>1971</td>\n",
       "      <td>0.22</td>\n",
       "      <td>0.16</td>\n",
       "      <td>0.12</td>\n",
       "      <td>0.166667</td>\n",
       "    </tr>\n",
       "  </tbody>\n",
       "</table>\n",
       "</div>"
      ],
      "text/plain": [
       "   geo  time  mean_years_in_school_women_25_to_34_years  \\\n",
       "0  afg  1970                                       0.21   \n",
       "1  afg  1971                                       0.22   \n",
       "\n",
       "   mean_years_in_school_women_35_to_44_years  \\\n",
       "0                                       0.15   \n",
       "1                                       0.16   \n",
       "\n",
       "   mean_years_in_school_women_45_to_54_years  mean_school_years  \n",
       "0                                       0.11           0.156667  \n",
       "1                                       0.12           0.166667  "
      ]
     },
     "execution_count": 36,
     "metadata": {},
     "output_type": "execute_result"
    }
   ],
   "source": [
    "# Repeating for Females middle years' files (25-34, 35-44, 45-54), merging into a single file to match the age groups in the unemployment percentage file. \n",
    "df_25_female = pd.read_csv('ddf--datapoints--mean_years_in_school_women_25_to_34_years--by--geo--time.csv')\n",
    "df_35_female = pd.read_csv('ddf--datapoints--mean_years_in_school_women_35_to_44_years--by--geo--time.csv')\n",
    "df_45_female = pd.read_csv('ddf--datapoints--mean_years_in_school_women_45_to_54_years--by--geo--time.csv')\n",
    "df_female = df_25_female.merge(df_35_female, left_on=['geo','time'], right_on=['geo','time'], how='inner')\n",
    "df_female_25_54 = df_female.merge(df_45_female, left_on=['geo','time'], right_on=['geo','time'], how='inner')\n",
    "df_female_25_54['mean_school_years'] = df_female_25_54[['mean_years_in_school_women_25_to_34_years','mean_years_in_school_women_35_to_44_years','mean_years_in_school_women_45_to_54_years']].mean(axis=1)\n",
    "df_female_25_54.head(2)"
   ]
  },
  {
   "cell_type": "code",
   "execution_count": 37,
   "metadata": {},
   "outputs": [
    {
     "data": {
      "text/plain": [
       "True"
      ]
     },
     "execution_count": 37,
     "metadata": {},
     "output_type": "execute_result"
    }
   ],
   "source": [
    "#verify that no data has been lost\n",
    "df_25_female.shape == df_35_female.shape and df_35_female.shape == df_45_female.shape and df_female_25_54.shape[0] == df_25_female.shape[0]"
   ]
  },
  {
   "cell_type": "code",
   "execution_count": 38,
   "metadata": {},
   "outputs": [
    {
     "data": {
      "text/html": [
       "<div>\n",
       "<style scoped>\n",
       "    .dataframe tbody tr th:only-of-type {\n",
       "        vertical-align: middle;\n",
       "    }\n",
       "\n",
       "    .dataframe tbody tr th {\n",
       "        vertical-align: top;\n",
       "    }\n",
       "\n",
       "    .dataframe thead th {\n",
       "        text-align: right;\n",
       "    }\n",
       "</style>\n",
       "<table border=\"1\" class=\"dataframe\">\n",
       "  <thead>\n",
       "    <tr style=\"text-align: right;\">\n",
       "      <th></th>\n",
       "      <th>time</th>\n",
       "      <th>geo</th>\n",
       "      <th>age_group</th>\n",
       "      <th>gender</th>\n",
       "      <th>mean_school_years</th>\n",
       "    </tr>\n",
       "  </thead>\n",
       "  <tbody>\n",
       "    <tr>\n",
       "      <th>0</th>\n",
       "      <td>1970</td>\n",
       "      <td>afg</td>\n",
       "      <td>25-54</td>\n",
       "      <td>female</td>\n",
       "      <td>0.156667</td>\n",
       "    </tr>\n",
       "    <tr>\n",
       "      <th>1</th>\n",
       "      <td>1971</td>\n",
       "      <td>afg</td>\n",
       "      <td>25-54</td>\n",
       "      <td>female</td>\n",
       "      <td>0.166667</td>\n",
       "    </tr>\n",
       "  </tbody>\n",
       "</table>\n",
       "</div>"
      ],
      "text/plain": [
       "   time  geo age_group  gender  mean_school_years\n",
       "0  1970  afg     25-54  female           0.156667\n",
       "1  1971  afg     25-54  female           0.166667"
      ]
     },
     "execution_count": 38,
     "metadata": {},
     "output_type": "execute_result"
    }
   ],
   "source": [
    "# dropping the intermediate columns & adding remaining columns\n",
    "df_female_25_54.drop(labels=['mean_years_in_school_women_25_to_34_years', 'mean_years_in_school_women_35_to_44_years','mean_years_in_school_women_45_to_54_years'], axis=1, inplace=True)\n",
    "df_female_25_54['gender']='female'\n",
    "df_female_25_54['age_group']= '25-54'\n",
    "df_female_25_54 = df_female_25_54[['time','geo','age_group','gender','mean_school_years']]\n",
    "df_female_25_54.head(2)"
   ]
  },
  {
   "cell_type": "code",
   "execution_count": 39,
   "metadata": {},
   "outputs": [
    {
     "data": {
      "text/html": [
       "<div>\n",
       "<style scoped>\n",
       "    .dataframe tbody tr th:only-of-type {\n",
       "        vertical-align: middle;\n",
       "    }\n",
       "\n",
       "    .dataframe tbody tr th {\n",
       "        vertical-align: top;\n",
       "    }\n",
       "\n",
       "    .dataframe thead th {\n",
       "        text-align: right;\n",
       "    }\n",
       "</style>\n",
       "<table border=\"1\" class=\"dataframe\">\n",
       "  <thead>\n",
       "    <tr style=\"text-align: right;\">\n",
       "      <th></th>\n",
       "      <th>time</th>\n",
       "      <th>geo</th>\n",
       "      <th>age_group</th>\n",
       "      <th>gender</th>\n",
       "      <th>mean_school_years</th>\n",
       "    </tr>\n",
       "  </thead>\n",
       "  <tbody>\n",
       "    <tr>\n",
       "      <th>0</th>\n",
       "      <td>1970</td>\n",
       "      <td>afg</td>\n",
       "      <td>15-24</td>\n",
       "      <td>male</td>\n",
       "      <td>1.82</td>\n",
       "    </tr>\n",
       "    <tr>\n",
       "      <th>1</th>\n",
       "      <td>1971</td>\n",
       "      <td>afg</td>\n",
       "      <td>15-24</td>\n",
       "      <td>male</td>\n",
       "      <td>1.87</td>\n",
       "    </tr>\n",
       "  </tbody>\n",
       "</table>\n",
       "</div>"
      ],
      "text/plain": [
       "   time  geo age_group gender  mean_school_years\n",
       "0  1970  afg     15-24   male               1.82\n",
       "1  1971  afg     15-24   male               1.87"
      ]
     },
     "execution_count": 39,
     "metadata": {},
     "output_type": "execute_result"
    }
   ],
   "source": [
    "#reformatting remaining age group files \n",
    "# Males_15-24 years\n",
    "df_male_15_24 = pd.read_csv(\"ddf--datapoints--mean_years_in_school_men_15_to_24_years--by--geo--time.csv\")\n",
    "df_male_15_24['age_group']= '15-24'\n",
    "df_male_15_24['gender']='male'\n",
    "df_male_15_24.rename(columns={'mean_years_in_school_men_15_to_24_years':'mean_school_years'}, inplace=True)\n",
    "df_male_15_24 = df_male_15_24[['time','geo','age_group','gender','mean_school_years']]\n",
    "df_male_15_24.head(2)"
   ]
  },
  {
   "cell_type": "code",
   "execution_count": 40,
   "metadata": {},
   "outputs": [
    {
     "data": {
      "text/html": [
       "<div>\n",
       "<style scoped>\n",
       "    .dataframe tbody tr th:only-of-type {\n",
       "        vertical-align: middle;\n",
       "    }\n",
       "\n",
       "    .dataframe tbody tr th {\n",
       "        vertical-align: top;\n",
       "    }\n",
       "\n",
       "    .dataframe thead th {\n",
       "        text-align: right;\n",
       "    }\n",
       "</style>\n",
       "<table border=\"1\" class=\"dataframe\">\n",
       "  <thead>\n",
       "    <tr style=\"text-align: right;\">\n",
       "      <th></th>\n",
       "      <th>time</th>\n",
       "      <th>geo</th>\n",
       "      <th>age_group</th>\n",
       "      <th>gender</th>\n",
       "      <th>mean_school_years</th>\n",
       "    </tr>\n",
       "  </thead>\n",
       "  <tbody>\n",
       "    <tr>\n",
       "      <th>0</th>\n",
       "      <td>1970</td>\n",
       "      <td>afg</td>\n",
       "      <td>15-24</td>\n",
       "      <td>female</td>\n",
       "      <td>0.48</td>\n",
       "    </tr>\n",
       "    <tr>\n",
       "      <th>1</th>\n",
       "      <td>1971</td>\n",
       "      <td>afg</td>\n",
       "      <td>15-24</td>\n",
       "      <td>female</td>\n",
       "      <td>0.50</td>\n",
       "    </tr>\n",
       "  </tbody>\n",
       "</table>\n",
       "</div>"
      ],
      "text/plain": [
       "   time  geo age_group  gender  mean_school_years\n",
       "0  1970  afg     15-24  female               0.48\n",
       "1  1971  afg     15-24  female               0.50"
      ]
     },
     "execution_count": 40,
     "metadata": {},
     "output_type": "execute_result"
    }
   ],
   "source": [
    "#reformatting remaining age group files\n",
    "#Females_15-24 years\n",
    "df_female_15_24 = pd.read_csv(\"ddf--datapoints--mean_years_in_school_women_15_to_24_years--by--geo--time.csv\")\n",
    "df_female_15_24['age_group']= '15-24'\n",
    "df_female_15_24['gender']='female'\n",
    "df_female_15_24.rename(columns={'mean_years_in_school_women_15_to_24_years':'mean_school_years'}, inplace=True)\n",
    "df_female_15_24 = df_female_15_24[['time','geo','age_group','gender','mean_school_years']]\n",
    "df_female_15_24.head(2)"
   ]
  },
  {
   "cell_type": "code",
   "execution_count": 41,
   "metadata": {},
   "outputs": [
    {
     "data": {
      "text/html": [
       "<div>\n",
       "<style scoped>\n",
       "    .dataframe tbody tr th:only-of-type {\n",
       "        vertical-align: middle;\n",
       "    }\n",
       "\n",
       "    .dataframe tbody tr th {\n",
       "        vertical-align: top;\n",
       "    }\n",
       "\n",
       "    .dataframe thead th {\n",
       "        text-align: right;\n",
       "    }\n",
       "</style>\n",
       "<table border=\"1\" class=\"dataframe\">\n",
       "  <thead>\n",
       "    <tr style=\"text-align: right;\">\n",
       "      <th></th>\n",
       "      <th>time</th>\n",
       "      <th>geo</th>\n",
       "      <th>age_group</th>\n",
       "      <th>gender</th>\n",
       "      <th>mean_school_years</th>\n",
       "    </tr>\n",
       "  </thead>\n",
       "  <tbody>\n",
       "    <tr>\n",
       "      <th>0</th>\n",
       "      <td>1970</td>\n",
       "      <td>afg</td>\n",
       "      <td>55-64</td>\n",
       "      <td>male</td>\n",
       "      <td>0.75</td>\n",
       "    </tr>\n",
       "    <tr>\n",
       "      <th>1</th>\n",
       "      <td>1971</td>\n",
       "      <td>afg</td>\n",
       "      <td>55-64</td>\n",
       "      <td>male</td>\n",
       "      <td>0.77</td>\n",
       "    </tr>\n",
       "  </tbody>\n",
       "</table>\n",
       "</div>"
      ],
      "text/plain": [
       "   time  geo age_group gender  mean_school_years\n",
       "0  1970  afg     55-64   male               0.75\n",
       "1  1971  afg     55-64   male               0.77"
      ]
     },
     "execution_count": 41,
     "metadata": {},
     "output_type": "execute_result"
    }
   ],
   "source": [
    "#reformatting remaining age group files \n",
    "#Males_55-64 years\n",
    "df_male_55_64 = pd.read_csv(\"ddf--datapoints--mean_years_in_school_men_55_to_64_years--by--geo--time.csv\")\n",
    "df_male_55_64['age_group']= '55-64'\n",
    "df_male_55_64['gender']='male'\n",
    "df_male_55_64.rename(columns={'mean_years_in_school_men_55_to_64_years':'mean_school_years'}, inplace=True)\n",
    "df_male_55_64 = df_male_55_64[['time','geo','age_group','gender','mean_school_years']]\n",
    "df_male_55_64.head(2)"
   ]
  },
  {
   "cell_type": "code",
   "execution_count": 42,
   "metadata": {},
   "outputs": [
    {
     "data": {
      "text/html": [
       "<div>\n",
       "<style scoped>\n",
       "    .dataframe tbody tr th:only-of-type {\n",
       "        vertical-align: middle;\n",
       "    }\n",
       "\n",
       "    .dataframe tbody tr th {\n",
       "        vertical-align: top;\n",
       "    }\n",
       "\n",
       "    .dataframe thead th {\n",
       "        text-align: right;\n",
       "    }\n",
       "</style>\n",
       "<table border=\"1\" class=\"dataframe\">\n",
       "  <thead>\n",
       "    <tr style=\"text-align: right;\">\n",
       "      <th></th>\n",
       "      <th>time</th>\n",
       "      <th>geo</th>\n",
       "      <th>age_group</th>\n",
       "      <th>gender</th>\n",
       "      <th>mean_school_years</th>\n",
       "    </tr>\n",
       "  </thead>\n",
       "  <tbody>\n",
       "    <tr>\n",
       "      <th>0</th>\n",
       "      <td>1970</td>\n",
       "      <td>afg</td>\n",
       "      <td>55-64</td>\n",
       "      <td>female</td>\n",
       "      <td>0.06</td>\n",
       "    </tr>\n",
       "    <tr>\n",
       "      <th>1</th>\n",
       "      <td>1971</td>\n",
       "      <td>afg</td>\n",
       "      <td>55-64</td>\n",
       "      <td>female</td>\n",
       "      <td>0.06</td>\n",
       "    </tr>\n",
       "  </tbody>\n",
       "</table>\n",
       "</div>"
      ],
      "text/plain": [
       "   time  geo age_group  gender  mean_school_years\n",
       "0  1970  afg     55-64  female               0.06\n",
       "1  1971  afg     55-64  female               0.06"
      ]
     },
     "execution_count": 42,
     "metadata": {},
     "output_type": "execute_result"
    }
   ],
   "source": [
    "#reformatting remaining age group files \n",
    "#Females 55-64 years\n",
    "df_female_55_64 = pd.read_csv(\"ddf--datapoints--mean_years_in_school_women_55_to_64_years--by--geo--time.csv\")\n",
    "df_female_55_64['age_group']= '55-64'\n",
    "df_female_55_64['gender']='female'\n",
    "df_female_55_64.rename(columns={'mean_years_in_school_women_55_to_64_years':'mean_school_years'}, inplace=True)\n",
    "df_female_55_64 = df_female_55_64[['time','geo','age_group','gender','mean_school_years']]\n",
    "df_female_55_64.head(2)"
   ]
  },
  {
   "cell_type": "code",
   "execution_count": 43,
   "metadata": {},
   "outputs": [
    {
     "data": {
      "text/html": [
       "<div>\n",
       "<style scoped>\n",
       "    .dataframe tbody tr th:only-of-type {\n",
       "        vertical-align: middle;\n",
       "    }\n",
       "\n",
       "    .dataframe tbody tr th {\n",
       "        vertical-align: top;\n",
       "    }\n",
       "\n",
       "    .dataframe thead th {\n",
       "        text-align: right;\n",
       "    }\n",
       "</style>\n",
       "<table border=\"1\" class=\"dataframe\">\n",
       "  <thead>\n",
       "    <tr style=\"text-align: right;\">\n",
       "      <th></th>\n",
       "      <th>time</th>\n",
       "      <th>geo</th>\n",
       "      <th>age_group</th>\n",
       "      <th>gender</th>\n",
       "      <th>mean_school_years</th>\n",
       "    </tr>\n",
       "  </thead>\n",
       "  <tbody>\n",
       "    <tr>\n",
       "      <th>0</th>\n",
       "      <td>1970</td>\n",
       "      <td>afg</td>\n",
       "      <td>65+</td>\n",
       "      <td>male</td>\n",
       "      <td>0.52</td>\n",
       "    </tr>\n",
       "    <tr>\n",
       "      <th>1</th>\n",
       "      <td>1971</td>\n",
       "      <td>afg</td>\n",
       "      <td>65+</td>\n",
       "      <td>male</td>\n",
       "      <td>0.53</td>\n",
       "    </tr>\n",
       "  </tbody>\n",
       "</table>\n",
       "</div>"
      ],
      "text/plain": [
       "   time  geo age_group gender  mean_school_years\n",
       "0  1970  afg       65+   male               0.52\n",
       "1  1971  afg       65+   male               0.53"
      ]
     },
     "execution_count": 43,
     "metadata": {},
     "output_type": "execute_result"
    }
   ],
   "source": [
    "#reformatting remaining age group files \n",
    "#Males_65+ years\n",
    "df_male_65 = pd.read_csv(\"ddf--datapoints--mean_years_in_school_men_65_plus_years--by--geo--time.csv\")\n",
    "df_male_65['age_group']= '65+'\n",
    "df_male_65['gender']='male'\n",
    "df_male_65.rename(columns={'mean_years_in_school_men_65_plus_years':'mean_school_years'}, inplace=True)\n",
    "df_male_65 = df_male_65[['time','geo','age_group','gender','mean_school_years']]\n",
    "df_male_65.head(2)"
   ]
  },
  {
   "cell_type": "code",
   "execution_count": 44,
   "metadata": {},
   "outputs": [
    {
     "data": {
      "text/html": [
       "<div>\n",
       "<style scoped>\n",
       "    .dataframe tbody tr th:only-of-type {\n",
       "        vertical-align: middle;\n",
       "    }\n",
       "\n",
       "    .dataframe tbody tr th {\n",
       "        vertical-align: top;\n",
       "    }\n",
       "\n",
       "    .dataframe thead th {\n",
       "        text-align: right;\n",
       "    }\n",
       "</style>\n",
       "<table border=\"1\" class=\"dataframe\">\n",
       "  <thead>\n",
       "    <tr style=\"text-align: right;\">\n",
       "      <th></th>\n",
       "      <th>time</th>\n",
       "      <th>geo</th>\n",
       "      <th>age_group</th>\n",
       "      <th>gender</th>\n",
       "      <th>mean_school_years</th>\n",
       "    </tr>\n",
       "  </thead>\n",
       "  <tbody>\n",
       "    <tr>\n",
       "      <th>0</th>\n",
       "      <td>1970</td>\n",
       "      <td>afg</td>\n",
       "      <td>65+</td>\n",
       "      <td>female</td>\n",
       "      <td>0.05</td>\n",
       "    </tr>\n",
       "    <tr>\n",
       "      <th>1</th>\n",
       "      <td>1971</td>\n",
       "      <td>afg</td>\n",
       "      <td>65+</td>\n",
       "      <td>female</td>\n",
       "      <td>0.05</td>\n",
       "    </tr>\n",
       "  </tbody>\n",
       "</table>\n",
       "</div>"
      ],
      "text/plain": [
       "   time  geo age_group  gender  mean_school_years\n",
       "0  1970  afg       65+  female               0.05\n",
       "1  1971  afg       65+  female               0.05"
      ]
     },
     "execution_count": 44,
     "metadata": {},
     "output_type": "execute_result"
    }
   ],
   "source": [
    "#reformatting remaining age group files \n",
    "#Males_65+ years\n",
    "df_female_65 = pd.read_csv(\"ddf--datapoints--mean_years_in_school_women_65_plus_years--by--geo--time.csv\")\n",
    "df_female_65['age_group']= '65+'\n",
    "df_female_65['gender']='female'\n",
    "df_female_65.rename(columns={'mean_years_in_school_women_65_plus_years':'mean_school_years'}, inplace=True)\n",
    "df_female_65 = df_female_65[['time','geo','age_group','gender','mean_school_years']]\n",
    "df_female_65.head(2)"
   ]
  },
  {
   "cell_type": "code",
   "execution_count": 45,
   "metadata": {},
   "outputs": [],
   "source": [
    "# Using pd.concat to join all the data frames together in one go.\n",
    "df_school = pd.concat([df_male_15_24, df_male_25_54, df_male_55_64, df_male_65, df_female_15_24, df_female_25_54, df_female_55_64, df_female_65], ignore_index=True)"
   ]
  },
  {
   "cell_type": "code",
   "execution_count": 46,
   "metadata": {},
   "outputs": [
    {
     "data": {
      "text/plain": [
       "True"
      ]
     },
     "execution_count": 46,
     "metadata": {},
     "output_type": "execute_result"
    }
   ],
   "source": [
    "#verify that all rows have been appended to the df_school dataframe\n",
    "int(df_school.shape[0]) == int(df_male_15_24.shape[0])*8"
   ]
  },
  {
   "cell_type": "code",
   "execution_count": 47,
   "metadata": {},
   "outputs": [
    {
     "data": {
      "text/html": [
       "<div>\n",
       "<style scoped>\n",
       "    .dataframe tbody tr th:only-of-type {\n",
       "        vertical-align: middle;\n",
       "    }\n",
       "\n",
       "    .dataframe tbody tr th {\n",
       "        vertical-align: top;\n",
       "    }\n",
       "\n",
       "    .dataframe thead th {\n",
       "        text-align: right;\n",
       "    }\n",
       "</style>\n",
       "<table border=\"1\" class=\"dataframe\">\n",
       "  <thead>\n",
       "    <tr style=\"text-align: right;\">\n",
       "      <th></th>\n",
       "      <th>time</th>\n",
       "      <th>geo</th>\n",
       "      <th>age_group</th>\n",
       "      <th>gender</th>\n",
       "      <th>mean_school_years</th>\n",
       "    </tr>\n",
       "  </thead>\n",
       "  <tbody>\n",
       "    <tr>\n",
       "      <th>0</th>\n",
       "      <td>1970</td>\n",
       "      <td>afg</td>\n",
       "      <td>15-24</td>\n",
       "      <td>male</td>\n",
       "      <td>1.82</td>\n",
       "    </tr>\n",
       "    <tr>\n",
       "      <th>1</th>\n",
       "      <td>1971</td>\n",
       "      <td>afg</td>\n",
       "      <td>15-24</td>\n",
       "      <td>male</td>\n",
       "      <td>1.87</td>\n",
       "    </tr>\n",
       "    <tr>\n",
       "      <th>2</th>\n",
       "      <td>1972</td>\n",
       "      <td>afg</td>\n",
       "      <td>15-24</td>\n",
       "      <td>male</td>\n",
       "      <td>1.92</td>\n",
       "    </tr>\n",
       "  </tbody>\n",
       "</table>\n",
       "</div>"
      ],
      "text/plain": [
       "   time  geo age_group gender  mean_school_years\n",
       "0  1970  afg     15-24   male               1.82\n",
       "1  1971  afg     15-24   male               1.87\n",
       "2  1972  afg     15-24   male               1.92"
      ]
     },
     "execution_count": 47,
     "metadata": {},
     "output_type": "execute_result"
    }
   ],
   "source": [
    "df_school.head(3)"
   ]
  },
  {
   "cell_type": "code",
   "execution_count": 48,
   "metadata": {},
   "outputs": [],
   "source": [
    "# Save school years data to a csv file\n",
    "df_school.to_csv('school_years_data.csv', index=False)"
   ]
  },
  {
   "cell_type": "markdown",
   "metadata": {},
   "source": [
    "#### Step 4: \n",
    "Merging literacy percentage data (2.e.) into a single dataframe."
   ]
  },
  {
   "cell_type": "code",
   "execution_count": 49,
   "metadata": {},
   "outputs": [
    {
     "data": {
      "text/html": [
       "<div>\n",
       "<style scoped>\n",
       "    .dataframe tbody tr th:only-of-type {\n",
       "        vertical-align: middle;\n",
       "    }\n",
       "\n",
       "    .dataframe tbody tr th {\n",
       "        vertical-align: top;\n",
       "    }\n",
       "\n",
       "    .dataframe thead th {\n",
       "        text-align: right;\n",
       "    }\n",
       "</style>\n",
       "<table border=\"1\" class=\"dataframe\">\n",
       "  <thead>\n",
       "    <tr style=\"text-align: right;\">\n",
       "      <th></th>\n",
       "      <th>time</th>\n",
       "      <th>geo</th>\n",
       "      <th>age_group</th>\n",
       "      <th>gender</th>\n",
       "      <th>youth_literacy_rate</th>\n",
       "    </tr>\n",
       "  </thead>\n",
       "  <tbody>\n",
       "    <tr>\n",
       "      <th>0</th>\n",
       "      <td>2000</td>\n",
       "      <td>abw</td>\n",
       "      <td>15-24</td>\n",
       "      <td>female</td>\n",
       "      <td>99.17</td>\n",
       "    </tr>\n",
       "    <tr>\n",
       "      <th>1</th>\n",
       "      <td>2010</td>\n",
       "      <td>abw</td>\n",
       "      <td>15-24</td>\n",
       "      <td>female</td>\n",
       "      <td>99.32</td>\n",
       "    </tr>\n",
       "  </tbody>\n",
       "</table>\n",
       "</div>"
      ],
      "text/plain": [
       "   time  geo age_group  gender  youth_literacy_rate\n",
       "0  2000  abw     15-24  female                99.17\n",
       "1  2010  abw     15-24  female                99.32"
      ]
     },
     "execution_count": 49,
     "metadata": {},
     "output_type": "execute_result"
    }
   ],
   "source": [
    "df_lit_f = pd.read_csv(\"ddf--datapoints--literacy_rate_youth_female_percent_of_females_ages_15_24--by--geo--time.csv\")\n",
    "df_lit_f.rename(columns={'literacy_rate_youth_female_percent_of_females_ages_15_24':'youth_literacy_rate'}, inplace=True)\n",
    "df_lit_f['age_group']= '15-24'\n",
    "df_lit_f['gender']='female'\n",
    "df_lit_f = df_lit_f[['time','geo','age_group','gender','youth_literacy_rate']]\n",
    "df_lit_f.head(2)"
   ]
  },
  {
   "cell_type": "code",
   "execution_count": 50,
   "metadata": {},
   "outputs": [
    {
     "data": {
      "text/html": [
       "<div>\n",
       "<style scoped>\n",
       "    .dataframe tbody tr th:only-of-type {\n",
       "        vertical-align: middle;\n",
       "    }\n",
       "\n",
       "    .dataframe tbody tr th {\n",
       "        vertical-align: top;\n",
       "    }\n",
       "\n",
       "    .dataframe thead th {\n",
       "        text-align: right;\n",
       "    }\n",
       "</style>\n",
       "<table border=\"1\" class=\"dataframe\">\n",
       "  <thead>\n",
       "    <tr style=\"text-align: right;\">\n",
       "      <th></th>\n",
       "      <th>time</th>\n",
       "      <th>geo</th>\n",
       "      <th>age_group</th>\n",
       "      <th>gender</th>\n",
       "      <th>youth_literacy_rate</th>\n",
       "    </tr>\n",
       "  </thead>\n",
       "  <tbody>\n",
       "    <tr>\n",
       "      <th>0</th>\n",
       "      <td>2000</td>\n",
       "      <td>abw</td>\n",
       "      <td>15-24</td>\n",
       "      <td>male</td>\n",
       "      <td>98.88</td>\n",
       "    </tr>\n",
       "    <tr>\n",
       "      <th>1</th>\n",
       "      <td>2010</td>\n",
       "      <td>abw</td>\n",
       "      <td>15-24</td>\n",
       "      <td>male</td>\n",
       "      <td>98.97</td>\n",
       "    </tr>\n",
       "  </tbody>\n",
       "</table>\n",
       "</div>"
      ],
      "text/plain": [
       "   time  geo age_group gender  youth_literacy_rate\n",
       "0  2000  abw     15-24   male                98.88\n",
       "1  2010  abw     15-24   male                98.97"
      ]
     },
     "execution_count": 50,
     "metadata": {},
     "output_type": "execute_result"
    }
   ],
   "source": [
    "df_lit_m = pd.read_csv(\"ddf--datapoints--literacy_rate_youth_male_percent_of_males_ages_15_24--by--geo--time.csv\")\n",
    "df_lit_m.rename(columns={'literacy_rate_youth_male_percent_of_males_ages_15_24':'youth_literacy_rate'}, inplace=True)\n",
    "df_lit_m['age_group']= '15-24'\n",
    "df_lit_m['gender']='male'\n",
    "df_lit_m = df_lit_m[['time','geo','age_group','gender','youth_literacy_rate']]\n",
    "df_lit_m.head(2)"
   ]
  },
  {
   "cell_type": "code",
   "execution_count": 51,
   "metadata": {},
   "outputs": [],
   "source": [
    "df_lit = pd.concat([df_lit_f, df_lit_m], ignore_index=True)"
   ]
  },
  {
   "cell_type": "code",
   "execution_count": 52,
   "metadata": {},
   "outputs": [
    {
     "data": {
      "text/plain": [
       "True"
      ]
     },
     "execution_count": 52,
     "metadata": {},
     "output_type": "execute_result"
    }
   ],
   "source": [
    "df_lit.shape[0] == df_lit_f.shape[0]+df_lit_m.shape[0]"
   ]
  },
  {
   "cell_type": "code",
   "execution_count": 53,
   "metadata": {},
   "outputs": [],
   "source": [
    "# Save literacy data to a csv file\n",
    "df_lit.to_csv('literacy_data.csv', index=False)"
   ]
  },
  {
   "cell_type": "markdown",
   "metadata": {},
   "source": [
    "### Data Cleaning\n",
    "So far, three .csv data files, in addition to the countries file, are created with organized data. These three files are now merged to create a single DataFrame, and data in this Dataframe is further cleaned to be ready for exploration.  "
   ]
  },
  {
   "cell_type": "markdown",
   "metadata": {},
   "source": [
    "#### Step 1:\n",
    "Merging mean school years data with unemployment rate data into a single dataframe.\n",
    "\n",
    "To do that, the country, year, gender and age must be matched, and the 'unemployment_rate' column is appended after the 'mean_school_years' column."
   ]
  },
  {
   "cell_type": "code",
   "execution_count": 54,
   "metadata": {},
   "outputs": [],
   "source": [
    "# Importing DFs from .csv files to ensure accuracy\n",
    "df_unemployment = pd.read_csv('unemployment_data.csv')\n",
    "df_schoolyears = pd.read_csv('school_years_data.csv')\n",
    "df_literacy = pd.read_csv('literacy_data.csv')"
   ]
  },
  {
   "cell_type": "code",
   "execution_count": 55,
   "metadata": {},
   "outputs": [
    {
     "data": {
      "text/plain": [
       "Index(['time', 'geo', 'age_group', 'gender', 'unemployment_percent'], dtype='object')"
      ]
     },
     "execution_count": 55,
     "metadata": {},
     "output_type": "execute_result"
    }
   ],
   "source": [
    "# verify columns\n",
    "df_unemployment.columns"
   ]
  },
  {
   "cell_type": "code",
   "execution_count": 56,
   "metadata": {},
   "outputs": [
    {
     "data": {
      "text/plain": [
       "Index(['time', 'geo', 'age_group', 'gender', 'mean_school_years'], dtype='object')"
      ]
     },
     "execution_count": 56,
     "metadata": {},
     "output_type": "execute_result"
    }
   ],
   "source": [
    "df_schoolyears.columns"
   ]
  },
  {
   "cell_type": "code",
   "execution_count": 57,
   "metadata": {},
   "outputs": [
    {
     "data": {
      "text/plain": [
       "Index(['time', 'geo', 'age_group', 'gender', 'youth_literacy_rate'], dtype='object')"
      ]
     },
     "execution_count": 57,
     "metadata": {},
     "output_type": "execute_result"
    }
   ],
   "source": [
    "df_literacy.columns"
   ]
  },
  {
   "cell_type": "code",
   "execution_count": 58,
   "metadata": {},
   "outputs": [
    {
     "data": {
      "text/plain": [
       "True"
      ]
     },
     "execution_count": 58,
     "metadata": {},
     "output_type": "execute_result"
    }
   ],
   "source": [
    "# verify that there are no duplicates\n",
    "sum(df_unemployment.duplicated()) == sum(df_schoolyears.duplicated()) == sum(df_literacy.duplicated()) == 0"
   ]
  },
  {
   "cell_type": "markdown",
   "metadata": {},
   "source": [
    "#### Note:\n",
    "Before merging the data on mean years in school and unemployment rates, I need to compare the max and min values of time in each dataframe to check the timeframe of my analysis. "
   ]
  },
  {
   "cell_type": "code",
   "execution_count": 59,
   "metadata": {},
   "outputs": [
    {
     "data": {
      "text/html": [
       "<div>\n",
       "<style scoped>\n",
       "    .dataframe tbody tr th:only-of-type {\n",
       "        vertical-align: middle;\n",
       "    }\n",
       "\n",
       "    .dataframe tbody tr th {\n",
       "        vertical-align: top;\n",
       "    }\n",
       "\n",
       "    .dataframe thead th {\n",
       "        text-align: right;\n",
       "    }\n",
       "</style>\n",
       "<table border=\"1\" class=\"dataframe\">\n",
       "  <thead>\n",
       "    <tr style=\"text-align: right;\">\n",
       "      <th></th>\n",
       "      <th>time</th>\n",
       "      <th>unemployment_percent</th>\n",
       "    </tr>\n",
       "  </thead>\n",
       "  <tbody>\n",
       "    <tr>\n",
       "      <th>count</th>\n",
       "      <td>16120.000000</td>\n",
       "      <td>16120.000000</td>\n",
       "    </tr>\n",
       "    <tr>\n",
       "      <th>mean</th>\n",
       "      <td>2003.019355</td>\n",
       "      <td>8.873214</td>\n",
       "    </tr>\n",
       "    <tr>\n",
       "      <th>std</th>\n",
       "      <td>11.120537</td>\n",
       "      <td>9.610190</td>\n",
       "    </tr>\n",
       "    <tr>\n",
       "      <th>min</th>\n",
       "      <td>1948.000000</td>\n",
       "      <td>0.000000</td>\n",
       "    </tr>\n",
       "    <tr>\n",
       "      <th>25%</th>\n",
       "      <td>1996.000000</td>\n",
       "      <td>2.747050</td>\n",
       "    </tr>\n",
       "    <tr>\n",
       "      <th>50%</th>\n",
       "      <td>2005.000000</td>\n",
       "      <td>5.573350</td>\n",
       "    </tr>\n",
       "    <tr>\n",
       "      <th>75%</th>\n",
       "      <td>2012.000000</td>\n",
       "      <td>11.507150</td>\n",
       "    </tr>\n",
       "    <tr>\n",
       "      <th>max</th>\n",
       "      <td>2017.000000</td>\n",
       "      <td>71.740000</td>\n",
       "    </tr>\n",
       "  </tbody>\n",
       "</table>\n",
       "</div>"
      ],
      "text/plain": [
       "               time  unemployment_percent\n",
       "count  16120.000000          16120.000000\n",
       "mean    2003.019355              8.873214\n",
       "std       11.120537              9.610190\n",
       "min     1948.000000              0.000000\n",
       "25%     1996.000000              2.747050\n",
       "50%     2005.000000              5.573350\n",
       "75%     2012.000000             11.507150\n",
       "max     2017.000000             71.740000"
      ]
     },
     "execution_count": 59,
     "metadata": {},
     "output_type": "execute_result"
    }
   ],
   "source": [
    "df_unemployment.describe()"
   ]
  },
  {
   "cell_type": "code",
   "execution_count": 60,
   "metadata": {},
   "outputs": [
    {
     "data": {
      "text/html": [
       "<div>\n",
       "<style scoped>\n",
       "    .dataframe tbody tr th:only-of-type {\n",
       "        vertical-align: middle;\n",
       "    }\n",
       "\n",
       "    .dataframe tbody tr th {\n",
       "        vertical-align: top;\n",
       "    }\n",
       "\n",
       "    .dataframe thead th {\n",
       "        text-align: right;\n",
       "    }\n",
       "</style>\n",
       "<table border=\"1\" class=\"dataframe\">\n",
       "  <thead>\n",
       "    <tr style=\"text-align: right;\">\n",
       "      <th></th>\n",
       "      <th>time</th>\n",
       "      <th>mean_school_years</th>\n",
       "    </tr>\n",
       "  </thead>\n",
       "  <tbody>\n",
       "    <tr>\n",
       "      <th>count</th>\n",
       "      <td>69184.000000</td>\n",
       "      <td>69184.000000</td>\n",
       "    </tr>\n",
       "    <tr>\n",
       "      <th>mean</th>\n",
       "      <td>1992.500000</td>\n",
       "      <td>5.651339</td>\n",
       "    </tr>\n",
       "    <tr>\n",
       "      <th>std</th>\n",
       "      <td>13.276014</td>\n",
       "      <td>3.668249</td>\n",
       "    </tr>\n",
       "    <tr>\n",
       "      <th>min</th>\n",
       "      <td>1970.000000</td>\n",
       "      <td>0.010000</td>\n",
       "    </tr>\n",
       "    <tr>\n",
       "      <th>25%</th>\n",
       "      <td>1981.000000</td>\n",
       "      <td>2.490000</td>\n",
       "    </tr>\n",
       "    <tr>\n",
       "      <th>50%</th>\n",
       "      <td>1992.500000</td>\n",
       "      <td>5.436667</td>\n",
       "    </tr>\n",
       "    <tr>\n",
       "      <th>75%</th>\n",
       "      <td>2004.000000</td>\n",
       "      <td>8.460000</td>\n",
       "    </tr>\n",
       "    <tr>\n",
       "      <th>max</th>\n",
       "      <td>2015.000000</td>\n",
       "      <td>16.060000</td>\n",
       "    </tr>\n",
       "  </tbody>\n",
       "</table>\n",
       "</div>"
      ],
      "text/plain": [
       "               time  mean_school_years\n",
       "count  69184.000000       69184.000000\n",
       "mean    1992.500000           5.651339\n",
       "std       13.276014           3.668249\n",
       "min     1970.000000           0.010000\n",
       "25%     1981.000000           2.490000\n",
       "50%     1992.500000           5.436667\n",
       "75%     2004.000000           8.460000\n",
       "max     2015.000000          16.060000"
      ]
     },
     "execution_count": 60,
     "metadata": {},
     "output_type": "execute_result"
    }
   ],
   "source": [
    "df_schoolyears.describe()"
   ]
  },
  {
   "cell_type": "markdown",
   "metadata": {},
   "source": [
    "#### *Observation 1:*\n",
    "By observing the above statistics, the Unemployment data points are around 16k while the school years data points are around 69k! The Data Analyst needs to decide the type of merge that enables reliable conclusions. \n",
    "\n",
    "It can be observed that the mean of the unemployment data timeframe is around year 2003, while the mean timeframe for school years data is 1992, and the max time of the unemployment data is 2017 while the maximum of mean_school_years data is 2015. \n",
    "\n",
    "Data for the years between 2005-2012 fall in the third quartile of the Unemployment data, while years between 2004-2014 fall in the fourth quartile of School years data. \n",
    "\n",
    "Since this project aims to draw conclusions on the relationships between education, unemployment and country/region, the focus shall be on recent years, and the inner merge on 'time' shall provide sufficient data to draw reliable conclusions. Other parameters such as country, age_group and gender are also included in the merge function to ensure consistency of the merge.  "
   ]
  },
  {
   "cell_type": "code",
   "execution_count": 61,
   "metadata": {},
   "outputs": [
    {
     "data": {
      "text/plain": [
       "28576"
      ]
     },
     "execution_count": 61,
     "metadata": {},
     "output_type": "execute_result"
    }
   ],
   "source": [
    "# Checking the number of data points within the time frame of interest.\n",
    "df_schoolyears.query('time > 1995 and time < 2015')['time'].count()"
   ]
  },
  {
   "cell_type": "code",
   "execution_count": 62,
   "metadata": {},
   "outputs": [
    {
     "data": {
      "text/plain": [
       "10323"
      ]
     },
     "execution_count": 62,
     "metadata": {},
     "output_type": "execute_result"
    }
   ],
   "source": [
    "df_unemployment.query('time > 1995 and time < 2015')['time'].count()"
   ]
  },
  {
   "cell_type": "code",
   "execution_count": 63,
   "metadata": {},
   "outputs": [],
   "source": [
    "# Merging mean school years data with unemployment rate data into a single dataframe.\n",
    "df_school_unemp = df_unemployment.merge(df_schoolyears, left_on=['geo','time','age_group', 'gender'], right_on=['geo','time','age_group', 'gender'], how='inner')"
   ]
  },
  {
   "cell_type": "code",
   "execution_count": 64,
   "metadata": {},
   "outputs": [
    {
     "data": {
      "text/html": [
       "<div>\n",
       "<style scoped>\n",
       "    .dataframe tbody tr th:only-of-type {\n",
       "        vertical-align: middle;\n",
       "    }\n",
       "\n",
       "    .dataframe tbody tr th {\n",
       "        vertical-align: top;\n",
       "    }\n",
       "\n",
       "    .dataframe thead th {\n",
       "        text-align: right;\n",
       "    }\n",
       "</style>\n",
       "<table border=\"1\" class=\"dataframe\">\n",
       "  <thead>\n",
       "    <tr style=\"text-align: right;\">\n",
       "      <th></th>\n",
       "      <th>time</th>\n",
       "      <th>geo</th>\n",
       "      <th>age_group</th>\n",
       "      <th>gender</th>\n",
       "      <th>unemployment_percent</th>\n",
       "      <th>mean_school_years</th>\n",
       "    </tr>\n",
       "  </thead>\n",
       "  <tbody>\n",
       "    <tr>\n",
       "      <th>0</th>\n",
       "      <td>2008</td>\n",
       "      <td>afg</td>\n",
       "      <td>15-24</td>\n",
       "      <td>female</td>\n",
       "      <td>3.9516</td>\n",
       "      <td>1.71</td>\n",
       "    </tr>\n",
       "    <tr>\n",
       "      <th>1</th>\n",
       "      <td>2012</td>\n",
       "      <td>afg</td>\n",
       "      <td>15-24</td>\n",
       "      <td>female</td>\n",
       "      <td>4.5193</td>\n",
       "      <td>1.94</td>\n",
       "    </tr>\n",
       "  </tbody>\n",
       "</table>\n",
       "</div>"
      ],
      "text/plain": [
       "   time  geo age_group  gender  unemployment_percent  mean_school_years\n",
       "0  2008  afg     15-24  female                3.9516               1.71\n",
       "1  2012  afg     15-24  female                4.5193               1.94"
      ]
     },
     "execution_count": 64,
     "metadata": {},
     "output_type": "execute_result"
    }
   ],
   "source": [
    "df_school_unemp.head(2)"
   ]
  },
  {
   "cell_type": "code",
   "execution_count": 65,
   "metadata": {},
   "outputs": [
    {
     "data": {
      "text/html": [
       "<div>\n",
       "<style scoped>\n",
       "    .dataframe tbody tr th:only-of-type {\n",
       "        vertical-align: middle;\n",
       "    }\n",
       "\n",
       "    .dataframe tbody tr th {\n",
       "        vertical-align: top;\n",
       "    }\n",
       "\n",
       "    .dataframe thead th {\n",
       "        text-align: right;\n",
       "    }\n",
       "</style>\n",
       "<table border=\"1\" class=\"dataframe\">\n",
       "  <thead>\n",
       "    <tr style=\"text-align: right;\">\n",
       "      <th></th>\n",
       "      <th>time</th>\n",
       "      <th>unemployment_percent</th>\n",
       "      <th>mean_school_years</th>\n",
       "    </tr>\n",
       "  </thead>\n",
       "  <tbody>\n",
       "    <tr>\n",
       "      <th>count</th>\n",
       "      <td>13657.000000</td>\n",
       "      <td>13657.000000</td>\n",
       "      <td>13657.000000</td>\n",
       "    </tr>\n",
       "    <tr>\n",
       "      <th>mean</th>\n",
       "      <td>2002.432745</td>\n",
       "      <td>8.844365</td>\n",
       "      <td>9.400196</td>\n",
       "    </tr>\n",
       "    <tr>\n",
       "      <th>std</th>\n",
       "      <td>9.666838</td>\n",
       "      <td>9.503330</td>\n",
       "      <td>3.063000</td>\n",
       "    </tr>\n",
       "    <tr>\n",
       "      <th>min</th>\n",
       "      <td>1970.000000</td>\n",
       "      <td>0.000000</td>\n",
       "      <td>0.050000</td>\n",
       "    </tr>\n",
       "    <tr>\n",
       "      <th>25%</th>\n",
       "      <td>1996.000000</td>\n",
       "      <td>2.749100</td>\n",
       "      <td>7.610000</td>\n",
       "    </tr>\n",
       "    <tr>\n",
       "      <th>50%</th>\n",
       "      <td>2005.000000</td>\n",
       "      <td>5.630500</td>\n",
       "      <td>9.990000</td>\n",
       "    </tr>\n",
       "    <tr>\n",
       "      <th>75%</th>\n",
       "      <td>2010.000000</td>\n",
       "      <td>11.558200</td>\n",
       "      <td>11.680000</td>\n",
       "    </tr>\n",
       "    <tr>\n",
       "      <th>max</th>\n",
       "      <td>2015.000000</td>\n",
       "      <td>67.840000</td>\n",
       "      <td>15.490000</td>\n",
       "    </tr>\n",
       "  </tbody>\n",
       "</table>\n",
       "</div>"
      ],
      "text/plain": [
       "               time  unemployment_percent  mean_school_years\n",
       "count  13657.000000          13657.000000       13657.000000\n",
       "mean    2002.432745              8.844365           9.400196\n",
       "std        9.666838              9.503330           3.063000\n",
       "min     1970.000000              0.000000           0.050000\n",
       "25%     1996.000000              2.749100           7.610000\n",
       "50%     2005.000000              5.630500           9.990000\n",
       "75%     2010.000000             11.558200          11.680000\n",
       "max     2015.000000             67.840000          15.490000"
      ]
     },
     "execution_count": 65,
     "metadata": {},
     "output_type": "execute_result"
    }
   ],
   "source": [
    "df_school_unemp.describe()"
   ]
  },
  {
   "cell_type": "markdown",
   "metadata": {},
   "source": [
    "#### *Observation 2:*\n",
    "Expectedly, the range of the combined data is now from 1970-2015, with data from 2005-2015 in the upper half of the distribution. Some data points are lost from the two original files as a result of this merge. Nevertheless, given the higher accuracy of data gathering tools in later years, and assuming that older data tends to be less reliable, this shall ensure that the conclusions drawn based on this subset of data is as accurate as possible and can be more reliably extrapolated to predict the behavior in more recent years. "
   ]
  },
  {
   "cell_type": "markdown",
   "metadata": {},
   "source": [
    "#### Step 2: \n",
    "Checking for nulls and confirming datatypes for the different fields."
   ]
  },
  {
   "cell_type": "code",
   "execution_count": 66,
   "metadata": {},
   "outputs": [
    {
     "name": "stdout",
     "output_type": "stream",
     "text": [
      "<class 'pandas.core.frame.DataFrame'>\n",
      "Int64Index: 13657 entries, 0 to 13656\n",
      "Data columns (total 6 columns):\n",
      " #   Column                Non-Null Count  Dtype  \n",
      "---  ------                --------------  -----  \n",
      " 0   time                  13657 non-null  int64  \n",
      " 1   geo                   13657 non-null  object \n",
      " 2   age_group             13657 non-null  object \n",
      " 3   gender                13657 non-null  object \n",
      " 4   unemployment_percent  13657 non-null  float64\n",
      " 5   mean_school_years     13657 non-null  float64\n",
      "dtypes: float64(2), int64(1), object(3)\n",
      "memory usage: 746.9+ KB\n"
     ]
    }
   ],
   "source": [
    "df_school_unemp.info()"
   ]
  },
  {
   "cell_type": "markdown",
   "metadata": {},
   "source": [
    "#### *Observation 3:*\n",
    "From the .info() method, all columns have equal non-null values and equal to the total number of rows. This means that the data has no nulls.  "
   ]
  },
  {
   "cell_type": "markdown",
   "metadata": {},
   "source": [
    "#### *Observation 4:*\n",
    "Data types for unemployment_percent and mean_school_years are floats, which is correct for the type of data in these columns. Since the time column has years only, it can be maintained as an integer. Hence, no changes to the data types are required. "
   ]
  },
  {
   "cell_type": "markdown",
   "metadata": {},
   "source": [
    "#### Step 3:\n",
    "Adding literacy data for Age group 15-24 into the same dataframe. Note that this merge is better done on the 'left' to maintain the data in the merged unemployment and school years datasets to enable fair comparisons. "
   ]
  },
  {
   "cell_type": "code",
   "execution_count": 67,
   "metadata": {},
   "outputs": [
    {
     "data": {
      "text/plain": [
       "(1128, 5)"
      ]
     },
     "execution_count": 67,
     "metadata": {},
     "output_type": "execute_result"
    }
   ],
   "source": [
    "df_literacy.shape"
   ]
  },
  {
   "cell_type": "code",
   "execution_count": 68,
   "metadata": {},
   "outputs": [
    {
     "data": {
      "text/html": [
       "<div>\n",
       "<style scoped>\n",
       "    .dataframe tbody tr th:only-of-type {\n",
       "        vertical-align: middle;\n",
       "    }\n",
       "\n",
       "    .dataframe tbody tr th {\n",
       "        vertical-align: top;\n",
       "    }\n",
       "\n",
       "    .dataframe thead th {\n",
       "        text-align: right;\n",
       "    }\n",
       "</style>\n",
       "<table border=\"1\" class=\"dataframe\">\n",
       "  <thead>\n",
       "    <tr style=\"text-align: right;\">\n",
       "      <th></th>\n",
       "      <th>time</th>\n",
       "      <th>youth_literacy_rate</th>\n",
       "    </tr>\n",
       "  </thead>\n",
       "  <tbody>\n",
       "    <tr>\n",
       "      <th>count</th>\n",
       "      <td>1128.000000</td>\n",
       "      <td>1128.000000</td>\n",
       "    </tr>\n",
       "    <tr>\n",
       "      <th>mean</th>\n",
       "      <td>1999.950355</td>\n",
       "      <td>86.371702</td>\n",
       "    </tr>\n",
       "    <tr>\n",
       "      <th>std</th>\n",
       "      <td>10.317292</td>\n",
       "      <td>19.404298</td>\n",
       "    </tr>\n",
       "    <tr>\n",
       "      <th>min</th>\n",
       "      <td>1975.000000</td>\n",
       "      <td>6.664000</td>\n",
       "    </tr>\n",
       "    <tr>\n",
       "      <th>25%</th>\n",
       "      <td>1992.000000</td>\n",
       "      <td>80.987500</td>\n",
       "    </tr>\n",
       "    <tr>\n",
       "      <th>50%</th>\n",
       "      <td>2003.000000</td>\n",
       "      <td>96.090000</td>\n",
       "    </tr>\n",
       "    <tr>\n",
       "      <th>75%</th>\n",
       "      <td>2009.000000</td>\n",
       "      <td>98.862500</td>\n",
       "    </tr>\n",
       "    <tr>\n",
       "      <th>max</th>\n",
       "      <td>2011.000000</td>\n",
       "      <td>100.000000</td>\n",
       "    </tr>\n",
       "  </tbody>\n",
       "</table>\n",
       "</div>"
      ],
      "text/plain": [
       "              time  youth_literacy_rate\n",
       "count  1128.000000          1128.000000\n",
       "mean   1999.950355            86.371702\n",
       "std      10.317292            19.404298\n",
       "min    1975.000000             6.664000\n",
       "25%    1992.000000            80.987500\n",
       "50%    2003.000000            96.090000\n",
       "75%    2009.000000            98.862500\n",
       "max    2011.000000           100.000000"
      ]
     },
     "execution_count": 68,
     "metadata": {},
     "output_type": "execute_result"
    }
   ],
   "source": [
    "df_literacy.describe()"
   ]
  },
  {
   "cell_type": "code",
   "execution_count": 69,
   "metadata": {},
   "outputs": [],
   "source": [
    "# Merging mean school years data with unemployment rate data into a single dataframe.\n",
    "df_combined = df_school_unemp.merge(df_literacy, left_on=['geo','time','age_group', 'gender'], right_on=['geo','time','age_group', 'gender'], how='left')"
   ]
  },
  {
   "cell_type": "code",
   "execution_count": 70,
   "metadata": {},
   "outputs": [
    {
     "name": "stdout",
     "output_type": "stream",
     "text": [
      "<class 'pandas.core.frame.DataFrame'>\n",
      "Int64Index: 13657 entries, 0 to 13656\n",
      "Data columns (total 7 columns):\n",
      " #   Column                Non-Null Count  Dtype  \n",
      "---  ------                --------------  -----  \n",
      " 0   time                  13657 non-null  int64  \n",
      " 1   geo                   13657 non-null  object \n",
      " 2   age_group             13657 non-null  object \n",
      " 3   gender                13657 non-null  object \n",
      " 4   unemployment_percent  13657 non-null  float64\n",
      " 5   mean_school_years     13657 non-null  float64\n",
      " 6   youth_literacy_rate   340 non-null    float64\n",
      "dtypes: float64(3), int64(1), object(3)\n",
      "memory usage: 853.6+ KB\n"
     ]
    }
   ],
   "source": [
    "df_combined.info()"
   ]
  },
  {
   "cell_type": "code",
   "execution_count": 71,
   "metadata": {},
   "outputs": [],
   "source": [
    "# Save intermediate version of the combined DF\n",
    "df_combined.to_csv('combined.csv', index=False)"
   ]
  },
  {
   "cell_type": "markdown",
   "metadata": {},
   "source": [
    "##### *Observation 5:*\n",
    "While the literacy dataset had 1128 enteries, the merge on the unemployment and school years dataset yielded only 340 points. \n",
    "\n",
    "The nulls in this merged dataframe are handled in two ways: \n",
    "1. Within the same age group (15-24), the nulls are replaced with the mean literacy rate for the same gender and country. \n",
    "2. For other age groups, the nulls are maintained to indicate that this data is not available. This is believed to be more accurate than replacing them with zeros or with the mean or max values. In addition, adding a descriptive phrase like 'No data available' will force change the datatype to 'object' (i.e. string) instead of float64 which would prevent any further computations. "
   ]
  },
  {
   "cell_type": "code",
   "execution_count": 72,
   "metadata": {},
   "outputs": [],
   "source": [
    "df_combined = pd.read_csv('combined.csv')"
   ]
  },
  {
   "cell_type": "code",
   "execution_count": 73,
   "metadata": {},
   "outputs": [
    {
     "data": {
      "text/plain": [
       "(340, 7)"
      ]
     },
     "execution_count": 73,
     "metadata": {},
     "output_type": "execute_result"
    }
   ],
   "source": [
    "# Within the same age group (15-24), Replace nulls with the mean literacy rate for the same gender and country across all years.\n",
    "#Extracting Age Group data first and dropping the Nulls to be able to find the means\n",
    "df_youth = df_combined.query('age_group == \"15-24\"')\n",
    "df_youth = df_youth.dropna()\n",
    "df_youth.shape"
   ]
  },
  {
   "cell_type": "code",
   "execution_count": 74,
   "metadata": {},
   "outputs": [
    {
     "data": {
      "text/plain": [
       "(146, 4)"
      ]
     },
     "execution_count": 74,
     "metadata": {},
     "output_type": "execute_result"
    }
   ],
   "source": [
    "# Obtaining the means for the same gender and country\n",
    "df_meanlit = df_youth.groupby(['geo','gender','age_group'],as_index=False)['youth_literacy_rate'].mean()\n",
    "df_meanlit.shape"
   ]
  },
  {
   "cell_type": "code",
   "execution_count": 75,
   "metadata": {
    "scrolled": false
   },
   "outputs": [
    {
     "data": {
      "text/html": [
       "<div>\n",
       "<style scoped>\n",
       "    .dataframe tbody tr th:only-of-type {\n",
       "        vertical-align: middle;\n",
       "    }\n",
       "\n",
       "    .dataframe tbody tr th {\n",
       "        vertical-align: top;\n",
       "    }\n",
       "\n",
       "    .dataframe thead th {\n",
       "        text-align: right;\n",
       "    }\n",
       "</style>\n",
       "<table border=\"1\" class=\"dataframe\">\n",
       "  <thead>\n",
       "    <tr style=\"text-align: right;\">\n",
       "      <th></th>\n",
       "      <th>time</th>\n",
       "      <th>geo</th>\n",
       "      <th>age_group</th>\n",
       "      <th>gender</th>\n",
       "      <th>unemployment_percent</th>\n",
       "      <th>mean_school_years</th>\n",
       "      <th>youth_literacy_rate_x</th>\n",
       "      <th>youth_literacy_rate_y</th>\n",
       "    </tr>\n",
       "  </thead>\n",
       "  <tbody>\n",
       "    <tr>\n",
       "      <th>0</th>\n",
       "      <td>2008</td>\n",
       "      <td>afg</td>\n",
       "      <td>15-24</td>\n",
       "      <td>female</td>\n",
       "      <td>3.9516</td>\n",
       "      <td>1.71</td>\n",
       "      <td>NaN</td>\n",
       "      <td>NaN</td>\n",
       "    </tr>\n",
       "    <tr>\n",
       "      <th>1</th>\n",
       "      <td>2012</td>\n",
       "      <td>afg</td>\n",
       "      <td>15-24</td>\n",
       "      <td>female</td>\n",
       "      <td>4.5193</td>\n",
       "      <td>1.94</td>\n",
       "      <td>NaN</td>\n",
       "      <td>NaN</td>\n",
       "    </tr>\n",
       "    <tr>\n",
       "      <th>2</th>\n",
       "      <td>2010</td>\n",
       "      <td>ago</td>\n",
       "      <td>15-24</td>\n",
       "      <td>female</td>\n",
       "      <td>20.8600</td>\n",
       "      <td>5.30</td>\n",
       "      <td>NaN</td>\n",
       "      <td>66.06</td>\n",
       "    </tr>\n",
       "    <tr>\n",
       "      <th>3</th>\n",
       "      <td>2011</td>\n",
       "      <td>ago</td>\n",
       "      <td>15-24</td>\n",
       "      <td>female</td>\n",
       "      <td>36.1700</td>\n",
       "      <td>5.43</td>\n",
       "      <td>66.06</td>\n",
       "      <td>66.06</td>\n",
       "    </tr>\n",
       "    <tr>\n",
       "      <th>4</th>\n",
       "      <td>2007</td>\n",
       "      <td>alb</td>\n",
       "      <td>15-24</td>\n",
       "      <td>female</td>\n",
       "      <td>24.9430</td>\n",
       "      <td>10.36</td>\n",
       "      <td>NaN</td>\n",
       "      <td>98.99</td>\n",
       "    </tr>\n",
       "    <tr>\n",
       "      <th>5</th>\n",
       "      <td>2008</td>\n",
       "      <td>alb</td>\n",
       "      <td>15-24</td>\n",
       "      <td>female</td>\n",
       "      <td>27.2953</td>\n",
       "      <td>10.53</td>\n",
       "      <td>99.12</td>\n",
       "      <td>98.99</td>\n",
       "    </tr>\n",
       "    <tr>\n",
       "      <th>6</th>\n",
       "      <td>2009</td>\n",
       "      <td>alb</td>\n",
       "      <td>15-24</td>\n",
       "      <td>female</td>\n",
       "      <td>27.9588</td>\n",
       "      <td>10.69</td>\n",
       "      <td>NaN</td>\n",
       "      <td>98.99</td>\n",
       "    </tr>\n",
       "    <tr>\n",
       "      <th>7</th>\n",
       "      <td>2010</td>\n",
       "      <td>alb</td>\n",
       "      <td>15-24</td>\n",
       "      <td>female</td>\n",
       "      <td>31.8365</td>\n",
       "      <td>10.86</td>\n",
       "      <td>NaN</td>\n",
       "      <td>98.99</td>\n",
       "    </tr>\n",
       "    <tr>\n",
       "      <th>8</th>\n",
       "      <td>2011</td>\n",
       "      <td>alb</td>\n",
       "      <td>15-24</td>\n",
       "      <td>female</td>\n",
       "      <td>19.4664</td>\n",
       "      <td>11.03</td>\n",
       "      <td>98.86</td>\n",
       "      <td>98.99</td>\n",
       "    </tr>\n",
       "    <tr>\n",
       "      <th>9</th>\n",
       "      <td>2012</td>\n",
       "      <td>alb</td>\n",
       "      <td>15-24</td>\n",
       "      <td>female</td>\n",
       "      <td>23.3485</td>\n",
       "      <td>11.19</td>\n",
       "      <td>NaN</td>\n",
       "      <td>98.99</td>\n",
       "    </tr>\n",
       "  </tbody>\n",
       "</table>\n",
       "</div>"
      ],
      "text/plain": [
       "   time  geo age_group  gender  unemployment_percent  mean_school_years  \\\n",
       "0  2008  afg     15-24  female                3.9516               1.71   \n",
       "1  2012  afg     15-24  female                4.5193               1.94   \n",
       "2  2010  ago     15-24  female               20.8600               5.30   \n",
       "3  2011  ago     15-24  female               36.1700               5.43   \n",
       "4  2007  alb     15-24  female               24.9430              10.36   \n",
       "5  2008  alb     15-24  female               27.2953              10.53   \n",
       "6  2009  alb     15-24  female               27.9588              10.69   \n",
       "7  2010  alb     15-24  female               31.8365              10.86   \n",
       "8  2011  alb     15-24  female               19.4664              11.03   \n",
       "9  2012  alb     15-24  female               23.3485              11.19   \n",
       "\n",
       "   youth_literacy_rate_x  youth_literacy_rate_y  \n",
       "0                    NaN                    NaN  \n",
       "1                    NaN                    NaN  \n",
       "2                    NaN                  66.06  \n",
       "3                  66.06                  66.06  \n",
       "4                    NaN                  98.99  \n",
       "5                  99.12                  98.99  \n",
       "6                    NaN                  98.99  \n",
       "7                    NaN                  98.99  \n",
       "8                  98.86                  98.99  \n",
       "9                    NaN                  98.99  "
      ]
     },
     "execution_count": 75,
     "metadata": {},
     "output_type": "execute_result"
    }
   ],
   "source": [
    "# Merging the mean literacy rates into the combined dataframe\n",
    "df_combined = df_combined.merge(df_meanlit, left_on=['geo','gender','age_group'], right_on=['geo','gender','age_group'], how='left')\n",
    "df_combined.head(10)"
   ]
  },
  {
   "cell_type": "code",
   "execution_count": 76,
   "metadata": {},
   "outputs": [
    {
     "data": {
      "text/plain": [
       "0"
      ]
     },
     "execution_count": 76,
     "metadata": {},
     "output_type": "execute_result"
    }
   ],
   "source": [
    "# check that the youth literacy rates for all other age groups are nulls:\n",
    "sum(df_combined.query('age_group != \"15-24\"')['youth_literacy_rate_y'] > 0)"
   ]
  },
  {
   "cell_type": "markdown",
   "metadata": {},
   "source": [
    "#### *Observation 6:*\n",
    "As observed, a new column is added showing the updated youth_literacy rates, showing that the mean has been used to replace the nulls for all the years in which the country and gender are matched. \n",
    "\n",
    "The old column shall be dropped and the DF is saved into the .csv file. "
   ]
  },
  {
   "cell_type": "code",
   "execution_count": 77,
   "metadata": {},
   "outputs": [],
   "source": [
    "df_combined.drop(labels=\"youth_literacy_rate_x\", axis=1, inplace=True)"
   ]
  },
  {
   "cell_type": "code",
   "execution_count": 78,
   "metadata": {},
   "outputs": [],
   "source": [
    "df_combined.rename(columns={\"youth_literacy_rate_y\":\"youth_literacy_rate\"}, inplace=True)"
   ]
  },
  {
   "cell_type": "code",
   "execution_count": 79,
   "metadata": {},
   "outputs": [
    {
     "name": "stdout",
     "output_type": "stream",
     "text": [
      "<class 'pandas.core.frame.DataFrame'>\n",
      "Int64Index: 13657 entries, 0 to 13656\n",
      "Data columns (total 7 columns):\n",
      " #   Column                Non-Null Count  Dtype  \n",
      "---  ------                --------------  -----  \n",
      " 0   time                  13657 non-null  int64  \n",
      " 1   geo                   13657 non-null  object \n",
      " 2   age_group             13657 non-null  object \n",
      " 3   gender                13657 non-null  object \n",
      " 4   unemployment_percent  13657 non-null  float64\n",
      " 5   mean_school_years     13657 non-null  float64\n",
      " 6   youth_literacy_rate   2098 non-null   float64\n",
      "dtypes: float64(3), int64(1), object(3)\n",
      "memory usage: 853.6+ KB\n"
     ]
    }
   ],
   "source": [
    "df_combined.info()"
   ]
  },
  {
   "cell_type": "code",
   "execution_count": 80,
   "metadata": {},
   "outputs": [
    {
     "data": {
      "text/plain": [
       "3844"
      ]
     },
     "execution_count": 80,
     "metadata": {},
     "output_type": "execute_result"
    }
   ],
   "source": [
    "df_combined.query('age_group == \"15-24\"')['age_group'].count()"
   ]
  },
  {
   "cell_type": "markdown",
   "metadata": {},
   "source": [
    "#### *Observation 7:*\n",
    "The total number of data points within the youth age group (15-24) in the combined unemployment and mean school years data sets is still greater than the interpolated youth_literacy_rates. This is likely because of missing data points of youth literacy rates for certain countries in the original literacy rates datasets in the .csv file. This is a limitation of this analysis. "
   ]
  },
  {
   "cell_type": "code",
   "execution_count": 81,
   "metadata": {},
   "outputs": [],
   "source": [
    "df_combined.to_csv('all_dep_variables.csv',index=False)"
   ]
  },
  {
   "cell_type": "markdown",
   "metadata": {},
   "source": [
    "#### Step 4:\n",
    "The last step is to combine this dataframe with unemployment percentages, mean school years and youth literacy rates with the country names and regions, and to verify that no nulls or duplicates exist to have the final cleaned dataframe. "
   ]
  },
  {
   "cell_type": "code",
   "execution_count": 82,
   "metadata": {},
   "outputs": [
    {
     "data": {
      "text/html": [
       "<div>\n",
       "<style scoped>\n",
       "    .dataframe tbody tr th:only-of-type {\n",
       "        vertical-align: middle;\n",
       "    }\n",
       "\n",
       "    .dataframe tbody tr th {\n",
       "        vertical-align: top;\n",
       "    }\n",
       "\n",
       "    .dataframe thead th {\n",
       "        text-align: right;\n",
       "    }\n",
       "</style>\n",
       "<table border=\"1\" class=\"dataframe\">\n",
       "  <thead>\n",
       "    <tr style=\"text-align: right;\">\n",
       "      <th></th>\n",
       "      <th>country</th>\n",
       "      <th>name</th>\n",
       "      <th>world_6region</th>\n",
       "    </tr>\n",
       "  </thead>\n",
       "  <tbody>\n",
       "    <tr>\n",
       "      <th>0</th>\n",
       "      <td>abkh</td>\n",
       "      <td>Abkhazia</td>\n",
       "      <td>europe_central_asia</td>\n",
       "    </tr>\n",
       "    <tr>\n",
       "      <th>1</th>\n",
       "      <td>abw</td>\n",
       "      <td>Aruba</td>\n",
       "      <td>america</td>\n",
       "    </tr>\n",
       "  </tbody>\n",
       "</table>\n",
       "</div>"
      ],
      "text/plain": [
       "  country      name        world_6region\n",
       "0    abkh  Abkhazia  europe_central_asia\n",
       "1     abw     Aruba              america"
      ]
     },
     "execution_count": 82,
     "metadata": {},
     "output_type": "execute_result"
    }
   ],
   "source": [
    "df_country = pd.read_csv('country_region.csv')\n",
    "df_country.head(2)"
   ]
  },
  {
   "cell_type": "code",
   "execution_count": 83,
   "metadata": {},
   "outputs": [
    {
     "data": {
      "text/html": [
       "<div>\n",
       "<style scoped>\n",
       "    .dataframe tbody tr th:only-of-type {\n",
       "        vertical-align: middle;\n",
       "    }\n",
       "\n",
       "    .dataframe tbody tr th {\n",
       "        vertical-align: top;\n",
       "    }\n",
       "\n",
       "    .dataframe thead th {\n",
       "        text-align: right;\n",
       "    }\n",
       "</style>\n",
       "<table border=\"1\" class=\"dataframe\">\n",
       "  <thead>\n",
       "    <tr style=\"text-align: right;\">\n",
       "      <th></th>\n",
       "      <th>time</th>\n",
       "      <th>geo</th>\n",
       "      <th>age_group</th>\n",
       "      <th>gender</th>\n",
       "      <th>unemployment_percent</th>\n",
       "      <th>mean_school_years</th>\n",
       "      <th>youth_literacy_rate</th>\n",
       "      <th>country</th>\n",
       "      <th>name</th>\n",
       "      <th>world_6region</th>\n",
       "    </tr>\n",
       "  </thead>\n",
       "  <tbody>\n",
       "    <tr>\n",
       "      <th>0</th>\n",
       "      <td>2008</td>\n",
       "      <td>afg</td>\n",
       "      <td>15-24</td>\n",
       "      <td>female</td>\n",
       "      <td>3.9516</td>\n",
       "      <td>1.71</td>\n",
       "      <td>NaN</td>\n",
       "      <td>afg</td>\n",
       "      <td>Afghanistan</td>\n",
       "      <td>south_asia</td>\n",
       "    </tr>\n",
       "    <tr>\n",
       "      <th>1</th>\n",
       "      <td>2012</td>\n",
       "      <td>afg</td>\n",
       "      <td>15-24</td>\n",
       "      <td>female</td>\n",
       "      <td>4.5193</td>\n",
       "      <td>1.94</td>\n",
       "      <td>NaN</td>\n",
       "      <td>afg</td>\n",
       "      <td>Afghanistan</td>\n",
       "      <td>south_asia</td>\n",
       "    </tr>\n",
       "  </tbody>\n",
       "</table>\n",
       "</div>"
      ],
      "text/plain": [
       "   time  geo age_group  gender  unemployment_percent  mean_school_years  \\\n",
       "0  2008  afg     15-24  female                3.9516               1.71   \n",
       "1  2012  afg     15-24  female                4.5193               1.94   \n",
       "\n",
       "   youth_literacy_rate country         name world_6region  \n",
       "0                  NaN     afg  Afghanistan    south_asia  \n",
       "1                  NaN     afg  Afghanistan    south_asia  "
      ]
     },
     "execution_count": 83,
     "metadata": {},
     "output_type": "execute_result"
    }
   ],
   "source": [
    "df = df_combined.merge(df_country, left_on=['geo'], right_on=['country'], how='left')\n",
    "df.head(2)"
   ]
  },
  {
   "cell_type": "code",
   "execution_count": 84,
   "metadata": {},
   "outputs": [
    {
     "data": {
      "text/html": [
       "<div>\n",
       "<style scoped>\n",
       "    .dataframe tbody tr th:only-of-type {\n",
       "        vertical-align: middle;\n",
       "    }\n",
       "\n",
       "    .dataframe tbody tr th {\n",
       "        vertical-align: top;\n",
       "    }\n",
       "\n",
       "    .dataframe thead th {\n",
       "        text-align: right;\n",
       "    }\n",
       "</style>\n",
       "<table border=\"1\" class=\"dataframe\">\n",
       "  <thead>\n",
       "    <tr style=\"text-align: right;\">\n",
       "      <th></th>\n",
       "      <th>year</th>\n",
       "      <th>country_code</th>\n",
       "      <th>country</th>\n",
       "      <th>region</th>\n",
       "      <th>age_group</th>\n",
       "      <th>gender</th>\n",
       "      <th>unemployment_percent</th>\n",
       "      <th>mean_school_years</th>\n",
       "      <th>youth_literacy_rate</th>\n",
       "    </tr>\n",
       "  </thead>\n",
       "  <tbody>\n",
       "    <tr>\n",
       "      <th>0</th>\n",
       "      <td>2008</td>\n",
       "      <td>afg</td>\n",
       "      <td>Afghanistan</td>\n",
       "      <td>south_asia</td>\n",
       "      <td>15-24</td>\n",
       "      <td>female</td>\n",
       "      <td>3.9516</td>\n",
       "      <td>1.71</td>\n",
       "      <td>NaN</td>\n",
       "    </tr>\n",
       "    <tr>\n",
       "      <th>1</th>\n",
       "      <td>2012</td>\n",
       "      <td>afg</td>\n",
       "      <td>Afghanistan</td>\n",
       "      <td>south_asia</td>\n",
       "      <td>15-24</td>\n",
       "      <td>female</td>\n",
       "      <td>4.5193</td>\n",
       "      <td>1.94</td>\n",
       "      <td>NaN</td>\n",
       "    </tr>\n",
       "  </tbody>\n",
       "</table>\n",
       "</div>"
      ],
      "text/plain": [
       "   year country_code      country      region age_group  gender  \\\n",
       "0  2008          afg  Afghanistan  south_asia     15-24  female   \n",
       "1  2012          afg  Afghanistan  south_asia     15-24  female   \n",
       "\n",
       "   unemployment_percent  mean_school_years  youth_literacy_rate  \n",
       "0                3.9516               1.71                  NaN  \n",
       "1                4.5193               1.94                  NaN  "
      ]
     },
     "execution_count": 84,
     "metadata": {},
     "output_type": "execute_result"
    }
   ],
   "source": [
    "#Dropping duplicate columns and fixing column order and names. \n",
    "df.drop(labels='country',axis=1,inplace=True)\n",
    "df = df[['time', 'geo', 'name', 'world_6region', 'age_group', 'gender', 'unemployment_percent',\n",
    "       'mean_school_years', 'youth_literacy_rate']]\n",
    "df.rename(columns={'geo':'country_code','name':'country','world_6region':'region','time':'year'}, inplace=True)\n",
    "df.head(2)"
   ]
  },
  {
   "cell_type": "code",
   "execution_count": 85,
   "metadata": {},
   "outputs": [
    {
     "name": "stdout",
     "output_type": "stream",
     "text": [
      "<class 'pandas.core.frame.DataFrame'>\n",
      "Int64Index: 13657 entries, 0 to 13656\n",
      "Data columns (total 9 columns):\n",
      " #   Column                Non-Null Count  Dtype  \n",
      "---  ------                --------------  -----  \n",
      " 0   year                  13657 non-null  int64  \n",
      " 1   country_code          13657 non-null  object \n",
      " 2   country               13657 non-null  object \n",
      " 3   region                13657 non-null  object \n",
      " 4   age_group             13657 non-null  object \n",
      " 5   gender                13657 non-null  object \n",
      " 6   unemployment_percent  13657 non-null  float64\n",
      " 7   mean_school_years     13657 non-null  float64\n",
      " 8   youth_literacy_rate   2098 non-null   float64\n",
      "dtypes: float64(3), int64(1), object(5)\n",
      "memory usage: 1.0+ MB\n"
     ]
    }
   ],
   "source": [
    "df.info()"
   ]
  },
  {
   "cell_type": "code",
   "execution_count": 86,
   "metadata": {},
   "outputs": [
    {
     "data": {
      "text/plain": [
       "0"
      ]
     },
     "execution_count": 86,
     "metadata": {},
     "output_type": "execute_result"
    }
   ],
   "source": [
    "sum(df.duplicated())"
   ]
  },
  {
   "cell_type": "markdown",
   "metadata": {},
   "source": [
    "#### Step 5:\n",
    "In order to fascilitate the analysis, each row is tagged with the time period, to answer the research questions for the differnet periods."
   ]
  },
  {
   "cell_type": "code",
   "execution_count": 87,
   "metadata": {},
   "outputs": [
    {
     "data": {
      "text/html": [
       "<div>\n",
       "<style scoped>\n",
       "    .dataframe tbody tr th:only-of-type {\n",
       "        vertical-align: middle;\n",
       "    }\n",
       "\n",
       "    .dataframe tbody tr th {\n",
       "        vertical-align: top;\n",
       "    }\n",
       "\n",
       "    .dataframe thead th {\n",
       "        text-align: right;\n",
       "    }\n",
       "</style>\n",
       "<table border=\"1\" class=\"dataframe\">\n",
       "  <thead>\n",
       "    <tr style=\"text-align: right;\">\n",
       "      <th></th>\n",
       "      <th>time_period</th>\n",
       "      <th>year</th>\n",
       "      <th>country_code</th>\n",
       "      <th>country</th>\n",
       "      <th>region</th>\n",
       "      <th>age_group</th>\n",
       "      <th>gender</th>\n",
       "      <th>unemployment_percent</th>\n",
       "      <th>mean_school_years</th>\n",
       "      <th>youth_literacy_rate</th>\n",
       "    </tr>\n",
       "  </thead>\n",
       "  <tbody>\n",
       "    <tr>\n",
       "      <th>0</th>\n",
       "      <td>2006-2010</td>\n",
       "      <td>2008</td>\n",
       "      <td>afg</td>\n",
       "      <td>Afghanistan</td>\n",
       "      <td>south_asia</td>\n",
       "      <td>15-24</td>\n",
       "      <td>female</td>\n",
       "      <td>3.9516</td>\n",
       "      <td>1.71</td>\n",
       "      <td>NaN</td>\n",
       "    </tr>\n",
       "    <tr>\n",
       "      <th>1</th>\n",
       "      <td>2011-2015</td>\n",
       "      <td>2012</td>\n",
       "      <td>afg</td>\n",
       "      <td>Afghanistan</td>\n",
       "      <td>south_asia</td>\n",
       "      <td>15-24</td>\n",
       "      <td>female</td>\n",
       "      <td>4.5193</td>\n",
       "      <td>1.94</td>\n",
       "      <td>NaN</td>\n",
       "    </tr>\n",
       "    <tr>\n",
       "      <th>2</th>\n",
       "      <td>2006-2010</td>\n",
       "      <td>2010</td>\n",
       "      <td>ago</td>\n",
       "      <td>Angola</td>\n",
       "      <td>sub_saharan_africa</td>\n",
       "      <td>15-24</td>\n",
       "      <td>female</td>\n",
       "      <td>20.8600</td>\n",
       "      <td>5.30</td>\n",
       "      <td>66.06</td>\n",
       "    </tr>\n",
       "    <tr>\n",
       "      <th>3</th>\n",
       "      <td>2011-2015</td>\n",
       "      <td>2011</td>\n",
       "      <td>ago</td>\n",
       "      <td>Angola</td>\n",
       "      <td>sub_saharan_africa</td>\n",
       "      <td>15-24</td>\n",
       "      <td>female</td>\n",
       "      <td>36.1700</td>\n",
       "      <td>5.43</td>\n",
       "      <td>66.06</td>\n",
       "    </tr>\n",
       "  </tbody>\n",
       "</table>\n",
       "</div>"
      ],
      "text/plain": [
       "  time_period  year country_code      country              region age_group  \\\n",
       "0   2006-2010  2008          afg  Afghanistan          south_asia     15-24   \n",
       "1   2011-2015  2012          afg  Afghanistan          south_asia     15-24   \n",
       "2   2006-2010  2010          ago       Angola  sub_saharan_africa     15-24   \n",
       "3   2011-2015  2011          ago       Angola  sub_saharan_africa     15-24   \n",
       "\n",
       "   gender  unemployment_percent  mean_school_years  youth_literacy_rate  \n",
       "0  female                3.9516               1.71                  NaN  \n",
       "1  female                4.5193               1.94                  NaN  \n",
       "2  female               20.8600               5.30                66.06  \n",
       "3  female               36.1700               5.43                66.06  "
      ]
     },
     "execution_count": 87,
     "metadata": {},
     "output_type": "execute_result"
    }
   ],
   "source": [
    "# Separate the 1995, 2005 and 2015 data (by creating bins for the different time frames) \n",
    "# then study the distribution across the regions. \n",
    "\n",
    "# Bin edges that will be used to \"cut\" the data into groups\n",
    "bin_edges = [1970, 1995, 2000, 2005, 2010, 2015] \n",
    "# Labels for each group (bin)\n",
    "bin_names = ['Up to 1995','1996-2000','2001-2005','2006-2010','2011-2015'] \n",
    "# Cutting the DF according to the different bins\n",
    "df['time_period'] = pd.cut(df['year'], bin_edges, labels=bin_names)\n",
    "df = df[['time_period','year', 'country_code', 'country', 'region', 'age_group', 'gender', 'unemployment_percent',\n",
    "       'mean_school_years', 'youth_literacy_rate']]\n",
    "df.head(4)"
   ]
  },
  {
   "cell_type": "code",
   "execution_count": 88,
   "metadata": {},
   "outputs": [],
   "source": [
    "df.to_csv('cleaned_data.csv',index=False)"
   ]
  },
  {
   "cell_type": "markdown",
   "metadata": {},
   "source": [
    "<a id='eda'></a>\n",
    "## Exploratory Data Analysis\n",
    "\n",
    "At this stage, the required data has been wrangled and cleaned, and is ready to be analyzed to answer the research questions. "
   ]
  },
  {
   "cell_type": "code",
   "execution_count": 89,
   "metadata": {},
   "outputs": [
    {
     "data": {
      "text/html": [
       "<div>\n",
       "<style scoped>\n",
       "    .dataframe tbody tr th:only-of-type {\n",
       "        vertical-align: middle;\n",
       "    }\n",
       "\n",
       "    .dataframe tbody tr th {\n",
       "        vertical-align: top;\n",
       "    }\n",
       "\n",
       "    .dataframe thead th {\n",
       "        text-align: right;\n",
       "    }\n",
       "</style>\n",
       "<table border=\"1\" class=\"dataframe\">\n",
       "  <thead>\n",
       "    <tr style=\"text-align: right;\">\n",
       "      <th></th>\n",
       "      <th>time_period</th>\n",
       "      <th>year</th>\n",
       "      <th>country_code</th>\n",
       "      <th>country</th>\n",
       "      <th>region</th>\n",
       "      <th>age_group</th>\n",
       "      <th>gender</th>\n",
       "      <th>unemployment_percent</th>\n",
       "      <th>mean_school_years</th>\n",
       "      <th>youth_literacy_rate</th>\n",
       "    </tr>\n",
       "  </thead>\n",
       "  <tbody>\n",
       "    <tr>\n",
       "      <th>0</th>\n",
       "      <td>2006-2010</td>\n",
       "      <td>2008</td>\n",
       "      <td>afg</td>\n",
       "      <td>Afghanistan</td>\n",
       "      <td>south_asia</td>\n",
       "      <td>15-24</td>\n",
       "      <td>female</td>\n",
       "      <td>3.9516</td>\n",
       "      <td>1.71</td>\n",
       "      <td>NaN</td>\n",
       "    </tr>\n",
       "    <tr>\n",
       "      <th>1</th>\n",
       "      <td>2011-2015</td>\n",
       "      <td>2012</td>\n",
       "      <td>afg</td>\n",
       "      <td>Afghanistan</td>\n",
       "      <td>south_asia</td>\n",
       "      <td>15-24</td>\n",
       "      <td>female</td>\n",
       "      <td>4.5193</td>\n",
       "      <td>1.94</td>\n",
       "      <td>NaN</td>\n",
       "    </tr>\n",
       "  </tbody>\n",
       "</table>\n",
       "</div>"
      ],
      "text/plain": [
       "  time_period  year country_code      country      region age_group  gender  \\\n",
       "0   2006-2010  2008          afg  Afghanistan  south_asia     15-24  female   \n",
       "1   2011-2015  2012          afg  Afghanistan  south_asia     15-24  female   \n",
       "\n",
       "   unemployment_percent  mean_school_years  youth_literacy_rate  \n",
       "0                3.9516               1.71                  NaN  \n",
       "1                4.5193               1.94                  NaN  "
      ]
     },
     "execution_count": 89,
     "metadata": {},
     "output_type": "execute_result"
    }
   ],
   "source": [
    "df = pd.read_csv('cleaned_data.csv')\n",
    "df.head(2)"
   ]
  },
  {
   "cell_type": "code",
   "execution_count": 90,
   "metadata": {},
   "outputs": [
    {
     "data": {
      "text/html": [
       "<div>\n",
       "<style scoped>\n",
       "    .dataframe tbody tr th:only-of-type {\n",
       "        vertical-align: middle;\n",
       "    }\n",
       "\n",
       "    .dataframe tbody tr th {\n",
       "        vertical-align: top;\n",
       "    }\n",
       "\n",
       "    .dataframe thead th {\n",
       "        text-align: right;\n",
       "    }\n",
       "</style>\n",
       "<table border=\"1\" class=\"dataframe\">\n",
       "  <thead>\n",
       "    <tr style=\"text-align: right;\">\n",
       "      <th></th>\n",
       "      <th>year</th>\n",
       "      <th>unemployment_percent</th>\n",
       "      <th>mean_school_years</th>\n",
       "      <th>youth_literacy_rate</th>\n",
       "    </tr>\n",
       "  </thead>\n",
       "  <tbody>\n",
       "    <tr>\n",
       "      <th>count</th>\n",
       "      <td>13657.000000</td>\n",
       "      <td>13657.000000</td>\n",
       "      <td>13657.000000</td>\n",
       "      <td>2098.000000</td>\n",
       "    </tr>\n",
       "    <tr>\n",
       "      <th>mean</th>\n",
       "      <td>2002.432745</td>\n",
       "      <td>8.844365</td>\n",
       "      <td>9.400196</td>\n",
       "      <td>97.088005</td>\n",
       "    </tr>\n",
       "    <tr>\n",
       "      <th>std</th>\n",
       "      <td>9.666838</td>\n",
       "      <td>9.503330</td>\n",
       "      <td>3.063000</td>\n",
       "      <td>6.903325</td>\n",
       "    </tr>\n",
       "    <tr>\n",
       "      <th>min</th>\n",
       "      <td>1970.000000</td>\n",
       "      <td>0.000000</td>\n",
       "      <td>0.050000</td>\n",
       "      <td>33.300000</td>\n",
       "    </tr>\n",
       "    <tr>\n",
       "      <th>25%</th>\n",
       "      <td>1996.000000</td>\n",
       "      <td>2.749100</td>\n",
       "      <td>7.610000</td>\n",
       "      <td>97.830000</td>\n",
       "    </tr>\n",
       "    <tr>\n",
       "      <th>50%</th>\n",
       "      <td>2005.000000</td>\n",
       "      <td>5.630500</td>\n",
       "      <td>9.990000</td>\n",
       "      <td>98.758000</td>\n",
       "    </tr>\n",
       "    <tr>\n",
       "      <th>75%</th>\n",
       "      <td>2010.000000</td>\n",
       "      <td>11.558200</td>\n",
       "      <td>11.680000</td>\n",
       "      <td>99.580000</td>\n",
       "    </tr>\n",
       "    <tr>\n",
       "      <th>max</th>\n",
       "      <td>2015.000000</td>\n",
       "      <td>67.840000</td>\n",
       "      <td>15.490000</td>\n",
       "      <td>100.000000</td>\n",
       "    </tr>\n",
       "  </tbody>\n",
       "</table>\n",
       "</div>"
      ],
      "text/plain": [
       "               year  unemployment_percent  mean_school_years  \\\n",
       "count  13657.000000          13657.000000       13657.000000   \n",
       "mean    2002.432745              8.844365           9.400196   \n",
       "std        9.666838              9.503330           3.063000   \n",
       "min     1970.000000              0.000000           0.050000   \n",
       "25%     1996.000000              2.749100           7.610000   \n",
       "50%     2005.000000              5.630500           9.990000   \n",
       "75%     2010.000000             11.558200          11.680000   \n",
       "max     2015.000000             67.840000          15.490000   \n",
       "\n",
       "       youth_literacy_rate  \n",
       "count          2098.000000  \n",
       "mean             97.088005  \n",
       "std               6.903325  \n",
       "min              33.300000  \n",
       "25%              97.830000  \n",
       "50%              98.758000  \n",
       "75%              99.580000  \n",
       "max             100.000000  "
      ]
     },
     "execution_count": 90,
     "metadata": {},
     "output_type": "execute_result"
    }
   ],
   "source": [
    "df.describe()"
   ]
  },
  {
   "cell_type": "code",
   "execution_count": 166,
   "metadata": {},
   "outputs": [
    {
     "data": {
      "text/plain": [
       "Up to 1995    86\n",
       "1996-2000     12\n",
       "2001-2005      9\n",
       "2006-2010      5\n",
       "2011-2015      3\n",
       "Name: time_period, dtype: int64"
      ]
     },
     "execution_count": 166,
     "metadata": {},
     "output_type": "execute_result"
    }
   ],
   "source": [
    "df.query('unemployment_percent == 0')['time_period'].value_counts()"
   ]
  },
  {
   "cell_type": "markdown",
   "metadata": {},
   "source": [
    "The statistical summary of the main dataframe reveals that: \n",
    "1. The years in the 'cleaned' dataset to be explored range from 1970-2015 with 50% of the data (in the third and fourth quartiles) falling between 2005-2015. \n",
    "2. The minimum unemployment percentage is reported to be 0%, which mostly falls in data before 1995. This may be due to difficulty in gathering such old-dated information.\n",
    "3. The mean unemployment percentage is 10 times less than its maximum, which indicates that the data is skewed to the right.\n",
    "4. The mean and median of mean school years data fall close to one another, which means that the over all mean school years data is likely to be normally distributed. However, the distribution of this data for each gender needs to be further investigated to answer Research Question 1 as follows. \n",
    "5. For youth literacy rates, the mean, the 25%, 50%, 75% percentiles, and the max values are all very close to one another and much further away from the minimum value. This means that the data is highly skewed to the left, indicating generally high youth literacy rates across the entire dataset. "
   ]
  },
  {
   "cell_type": "markdown",
   "metadata": {},
   "source": [
    "### Research Question 1:\n",
    "### What is the relationship between gender and the mean years spent at school across different regions?"
   ]
  },
  {
   "cell_type": "code",
   "execution_count": 91,
   "metadata": {},
   "outputs": [],
   "source": [
    "#Investigate the distribution of the mean school years per gender. \n",
    "df_q1_a=df[['gender','mean_school_years']]"
   ]
  },
  {
   "cell_type": "code",
   "execution_count": 92,
   "metadata": {},
   "outputs": [],
   "source": [
    "df_q1_a_m = df_q1_a.query(\"gender == 'male'\")\n",
    "df_q1_a_f = df_q1_a.query(\"gender == 'female'\")"
   ]
  },
  {
   "cell_type": "code",
   "execution_count": 93,
   "metadata": {},
   "outputs": [
    {
     "data": {
      "image/png": "[encoded data removed]",
      "text/plain": [
       "<Figure size 864x720 with 1 Axes>"
      ]
     },
     "metadata": {},
     "output_type": "display_data"
    }
   ],
   "source": [
    "plt.suptitle(\"Figure 1: Distribution of Mean School Years per Gender\")\n",
    "\n",
    "plt.hist(df_q1_a_m['mean_school_years'], alpha=0.5, label='Males')\n",
    "plt.hist(df_q1_a_f['mean_school_years'], alpha=0.5, label='Females')\n",
    "plt.xlabel(\"Average School Years\")\n",
    "plt.ylabel(\"Frequency of Occurence\")\n",
    "plt.legend(loc='upper right')\n",
    "plt.show()"
   ]
  },
  {
   "cell_type": "markdown",
   "metadata": {},
   "source": [
    "As observed in Figure 1, the distribution of mean school years datasets is skewed to the left for both male and female data across all regions and all time frames under study. Further exploration is conducted to further investigate this distribution for each time period. "
   ]
  },
  {
   "cell_type": "code",
   "execution_count": 95,
   "metadata": {},
   "outputs": [],
   "source": [
    "df_q1_aa=df[['gender','time_period','mean_school_years']]\n",
    "df_q1_aa_m = df_q1_aa.query(\"gender == 'male'\")\n",
    "df_q1_aa_f = df_q1_aa.query(\"gender == 'female'\")"
   ]
  },
  {
   "cell_type": "code",
   "execution_count": 127,
   "metadata": {},
   "outputs": [],
   "source": [
    "def hist_plot(time_frame,a,b,ind):\n",
    "    plt.subplot(a,b,ind)\n",
    "    plt.hist(df_q1_aa_m.query(\"time_period == '{}'\".format(time_frame))['mean_school_years'], alpha=0.5, label='Males')\n",
    "    plt.hist(df_q1_aa_f.query(\"time_period == '{}'\".format(time_frame))['mean_school_years'], alpha=0.5, label='Females')\n",
    "    plt.xlabel(\"Average School Years\")\n",
    "    plt.ylabel(\"Frequency of Occurence\")\n",
    "    plt.title(time_frame)\n",
    "    plt.legend(loc='upper left')"
   ]
  },
  {
   "cell_type": "code",
   "execution_count": 128,
   "metadata": {},
   "outputs": [],
   "source": [
    "time_frame = ['1996-2000', '2001-2005', '2006-2010', '2011-2015']"
   ]
  },
  {
   "cell_type": "code",
   "execution_count": 129,
   "metadata": {},
   "outputs": [
    {
     "data": {
      "image/png": "[encoded data removed]",
      "text/plain": [
       "<Figure size 864x720 with 4 Axes>"
      ]
     },
     "metadata": {},
     "output_type": "display_data"
    }
   ],
   "source": [
    "plt.suptitle(\"Figure 2: Distribution of Mean School Years per Gender from 1995-2015\")\n",
    "\n",
    "for i in range(len(time_frame)):\n",
    "    hist_plot(time_frame[i],2,2,i+1)\n",
    "\n",
    "plt.show()"
   ]
  },
  {
   "cell_type": "markdown",
   "metadata": {},
   "source": [
    "Figure 2 compares histograms of mean school data for males and females in 5-year timeframes between 1995 and 2015. It is observed that the left skewing of data is observed in each subset (time frame) and the number of females receiving lower years of school education is higher than the corresponding number of males across the entire time period (which agrees with the results in Figure 1). Furthermore, it is observed that the mean years spent at school for both genders are generally higher for the time period between 2001-2015.\n",
    "\n",
    "Since the trend across all timeframes is almost similar, the mean school years data for the two genders is analyzed according to the region to enable further exploration. This takes place as follows:"
   ]
  },
  {
   "cell_type": "code",
   "execution_count": 132,
   "metadata": {},
   "outputs": [],
   "source": [
    "# Create a sub-Dataframe that calculates the mean school years per region for all the data across all time periods\n",
    "df_q1 = df.groupby(['region','gender'],as_index=False)['mean_school_years'].mean()"
   ]
  },
  {
   "cell_type": "code",
   "execution_count": 133,
   "metadata": {},
   "outputs": [],
   "source": [
    "df_q1_male = df_q1.query('gender == \"male\"')\n",
    "df_q1_female = df_q1.query('gender == \"female\"')"
   ]
  },
  {
   "cell_type": "code",
   "execution_count": 135,
   "metadata": {},
   "outputs": [
    {
     "data": {
      "text/plain": [
       "['america',\n",
       " 'east_asia_pacific',\n",
       " 'europe_central_asia',\n",
       " 'middle_east_north_africa',\n",
       " 'south_asia',\n",
       " 'sub_saharan_africa']"
      ]
     },
     "execution_count": 135,
     "metadata": {},
     "output_type": "execute_result"
    }
   ],
   "source": [
    "Regions = list(df_q1['region'].unique())\n",
    "Regions"
   ]
  },
  {
   "cell_type": "code",
   "execution_count": 136,
   "metadata": {},
   "outputs": [],
   "source": [
    "Regions = list(df_q1['region'].unique())\n",
    "Reg = []\n",
    "for i in range(len(Regions)):\n",
    "    Reg.append(Regions[i].replace(\"_\",\" \").title())"
   ]
  },
  {
   "cell_type": "code",
   "execution_count": 137,
   "metadata": {},
   "outputs": [
    {
     "data": {
      "text/plain": [
       "<matplotlib.legend.Legend at 0x1cd3ac46820>"
      ]
     },
     "execution_count": 137,
     "metadata": {},
     "output_type": "execute_result"
    },
    {
     "data": {
      "image/png": "[encoded data removed]",
      "text/plain": [
       "<Figure size 864x720 with 1 Axes>"
      ]
     },
     "metadata": {},
     "output_type": "display_data"
    }
   ],
   "source": [
    "ind = np.arange(6)  # the x locations for the 6 regions\n",
    "width = 0.25       # the width of the bars\n",
    "# plot bars\n",
    "bars_male = plt.bar(ind, df_q1_male['mean_school_years'], width, color='b', alpha=.7, label='Males')\n",
    "bars_female = plt.bar(ind + width, df_q1_female['mean_school_years'], width, color='r', alpha=.7, label='Females')\n",
    "\n",
    "# title and labels\n",
    "plt.ylabel('Mean School Years')\n",
    "plt.xlabel('Region')\n",
    "plt.title('Figure 3: Average Years Spent in School per Region across the Two Genders')\n",
    "locations = ind + width/2 # xtick locations\n",
    "labels = Reg  # xtick labels\n",
    "plt.xticks(locations, labels, rotation=45)\n",
    "\n",
    "# legend\n",
    "plt.legend()"
   ]
  },
  {
   "cell_type": "markdown",
   "metadata": {},
   "source": [
    "By plotting the statistical average of mean years spent at school for males and females in different regions (in Figure 3), it is observed that females tend to spend lower years in school compared to males in all regions of the world except for America in which females spend slightly higher average number of years years at school than males."
   ]
  },
  {
   "cell_type": "markdown",
   "metadata": {},
   "source": [
    "### Research Question 2:\n",
    "### What is the relationship between age and unemployment rates in different regions?"
   ]
  },
  {
   "cell_type": "code",
   "execution_count": 170,
   "metadata": {},
   "outputs": [
    {
     "data": {
      "text/html": [
       "<div>\n",
       "<style scoped>\n",
       "    .dataframe tbody tr th:only-of-type {\n",
       "        vertical-align: middle;\n",
       "    }\n",
       "\n",
       "    .dataframe tbody tr th {\n",
       "        vertical-align: top;\n",
       "    }\n",
       "\n",
       "    .dataframe thead th {\n",
       "        text-align: right;\n",
       "    }\n",
       "</style>\n",
       "<table border=\"1\" class=\"dataframe\">\n",
       "  <thead>\n",
       "    <tr style=\"text-align: right;\">\n",
       "      <th></th>\n",
       "      <th>region</th>\n",
       "      <th>age_group</th>\n",
       "      <th>unemployment_percent</th>\n",
       "    </tr>\n",
       "  </thead>\n",
       "  <tbody>\n",
       "    <tr>\n",
       "      <th>0</th>\n",
       "      <td>america</td>\n",
       "      <td>15-24</td>\n",
       "      <td>17.255784</td>\n",
       "    </tr>\n",
       "    <tr>\n",
       "      <th>1</th>\n",
       "      <td>america</td>\n",
       "      <td>25-54</td>\n",
       "      <td>6.377630</td>\n",
       "    </tr>\n",
       "  </tbody>\n",
       "</table>\n",
       "</div>"
      ],
      "text/plain": [
       "    region age_group  unemployment_percent\n",
       "0  america     15-24             17.255784\n",
       "1  america     25-54              6.377630"
      ]
     },
     "execution_count": 170,
     "metadata": {},
     "output_type": "execute_result"
    }
   ],
   "source": [
    "# Create a sub-Dataframe that calculates the employment percentages per region for different age groups across all time periods\n",
    "df_q2 = df.groupby(['region','age_group'],as_index=False)['unemployment_percent'].mean()\n",
    "df_q2.head(2)"
   ]
  },
  {
   "cell_type": "code",
   "execution_count": 139,
   "metadata": {},
   "outputs": [],
   "source": [
    "def pie_plot(region, a, b, ind):\n",
    "    plt.subplot(a,b,ind)\n",
    "    p1 = df_q2.query('region == \"{}\"'.format(region))['unemployment_percent']\n",
    "    plt.pie(p1,autopct=lambda p : '{:,.2f}%'.format(p * sum(p1)/100))\n",
    "    plt.title(region.replace(\"_\",\" \").title())\n",
    "    plt.legend(df_q2['age_group'],loc=\"upper right\")\n"
   ]
  },
  {
   "cell_type": "code",
   "execution_count": 140,
   "metadata": {},
   "outputs": [
    {
     "data": {
      "image/png": "[encoded data removed]",
      "text/plain": [
       "<Figure size 864x720 with 6 Axes>"
      ]
     },
     "metadata": {},
     "output_type": "display_data"
    }
   ],
   "source": [
    "plt.suptitle(\"Figure 4: Unemployment Percentage per Region for Different Age Groups\")\n",
    "\n",
    "for i in range(len(Regions)):\n",
    "    pie_plot(Regions[i],2,3,i+1)\n",
    "    \n",
    "plt.show()"
   ]
  },
  {
   "cell_type": "markdown",
   "metadata": {},
   "source": [
    "As observed in Figure 4, the unemployment percentages are highest for people aged 15-24 for all 6 regions except South Asia. In South Asia, the highest unemployment percentage is for people aged 65 and above.\n",
    "\n",
    "In fact, for the working age (between 15-54), the unemployment percentages are observed to be lowest in South Asia, while being highest in the Middle East North Africa Region and Sub Saharan Africa.\n",
    "\n",
    "For people aged 55-64, the unemployment percentages are observed to be almost similar in America, Middle East North Africa, South Asia and Sub Saharan Africa (around 4-5%), whie being highest in Europe/Central Asia (\\~6%) and lowest in East Asia Pacific (\\~2%)."
   ]
  },
  {
   "cell_type": "markdown",
   "metadata": {},
   "source": [
    "### Research Question 3:\n",
    "### What is the relationship between the mean years spent at school and unemployment rates across different regions for people in the working age (15-54)?"
   ]
  },
  {
   "cell_type": "code",
   "execution_count": 143,
   "metadata": {},
   "outputs": [
    {
     "data": {
      "text/plain": [
       "2011-2015    1896\n",
       "2006-2010    1664\n",
       "2001-2005    1288\n",
       "1996-2000    1000\n",
       "Name: time_period, dtype: int64"
      ]
     },
     "execution_count": 143,
     "metadata": {},
     "output_type": "execute_result"
    }
   ],
   "source": [
    "df_q3=df[['region','time_period','age_group','mean_school_years','unemployment_percent']]\n",
    "df_q3_aa = df_q3.query(\"age_group == '25-54' or age_group == '15-24'\")\n",
    "df_q3_a = df_q3_aa.query(\"time_period != 'Up to 1995'\")\n",
    "df_q3_a['time_period'].value_counts()"
   ]
  },
  {
   "cell_type": "code",
   "execution_count": 155,
   "metadata": {},
   "outputs": [],
   "source": [
    "def scatter_plot_q3(region, a, b, ind):\n",
    "    plt.subplot(a,b,ind)\n",
    "    df_q3_1 = df_q3_a.query('region == \"{}\"'.format(region))\n",
    "    plt.scatter(df_q3_1['mean_school_years'],df_q3_1['unemployment_percent'])\n",
    "    plt.xlabel(\"Mean School Years\")\n",
    "    plt.ylabel(\"Unemployment Percentage\")\n",
    "    plt.title(region.replace(\"_\",\" \").title())"
   ]
  },
  {
   "cell_type": "code",
   "execution_count": 156,
   "metadata": {},
   "outputs": [
    {
     "data": {
      "image/png": "[encoded data removed]",
      "text/plain": [
       "<Figure size 864x720 with 6 Axes>"
      ]
     },
     "metadata": {},
     "output_type": "display_data"
    }
   ],
   "source": [
    "plt.suptitle(\"Figure 5: Relationship between Mean School Years and Unemployment Percentage per Region\")\n",
    "\n",
    "for i in range(len(Regions)):\n",
    "    scatter_plot_q3(Regions[i],2,3,i+1)\n",
    "    \n",
    "plt.show()"
   ]
  },
  {
   "cell_type": "markdown",
   "metadata": {},
   "source": [
    "As observed in Figure 5, the data points are widely dispersed and the correlation is generally weak between Mean School Years and Unemployment Percentages. Nevertheless, a negative correlation is observed between Mean School Years and Unemployment Percentage in America, East Asia Pacific, Europe/Central Asia and MENA Region, after a certain threshold of mean school years =\\~12 years. "
   ]
  },
  {
   "cell_type": "markdown",
   "metadata": {},
   "source": [
    "### Research Question 4:\n",
    "### How have unemployment rates varied over time in countries from different regions? Are unemployment rates growing in certain regions than others? "
   ]
  },
  {
   "cell_type": "code",
   "execution_count": 146,
   "metadata": {},
   "outputs": [
    {
     "data": {
      "text/plain": [
       "Text(0.5, 1.0, 'Figure 6: Mean Unemployment Percentage over Years')"
      ]
     },
     "execution_count": 146,
     "metadata": {},
     "output_type": "execute_result"
    },
    {
     "data": {
      "image/png": "[encoded data removed]",
      "text/plain": [
       "<Figure size 864x720 with 1 Axes>"
      ]
     },
     "metadata": {},
     "output_type": "display_data"
    }
   ],
   "source": [
    "# First, investigate the trend in global unemployment rates over time. \n",
    "plt.plot(df.groupby('year')['unemployment_percent'].mean())\n",
    "plt.xlabel('Year')\n",
    "plt.ylabel('Mean Unemployment Percentage')\n",
    "plt.title(\"Figure 6: Mean Unemployment Percentage over Years\")"
   ]
  },
  {
   "cell_type": "markdown",
   "metadata": {},
   "source": [
    "The line plot in Figure 6 shows that a steep increase in the mean percentage unemployment over time for the period between 1970 to around 1985. The percentage unemployment increased from slightly above 3% to around 9%. After 1985, the percentage unemployment decreases to around 7% until 1990 then increases again to 9% by 1995. From 1995 to 2015, the percentage unemployment fluctuates between 8-10% from around 1992 to 2015."
   ]
  },
  {
   "cell_type": "code",
   "execution_count": 147,
   "metadata": {},
   "outputs": [],
   "source": [
    "# Create a sub-Dataframe that calculates the average unemployment percentage per region for each timeperiod\n",
    "df_region = df.groupby(['time_period','region'],as_index=False)['unemployment_percent'].mean()"
   ]
  },
  {
   "cell_type": "code",
   "execution_count": 148,
   "metadata": {},
   "outputs": [],
   "source": [
    "# Split into sub-dataframes per time frame. \n",
    "df_bef_1995 = df_region.query('time_period == \"Up to 1995\"')\n",
    "df_1995_2000 = df_region.query('time_period == \"1996-2000\"')\n",
    "df_2001_2005 = df_region.query('time_period == \"2001-2005\"')\n",
    "df_2006_2010 = df_region.query('time_period == \"2006-2010\"')\n",
    "df_2011_2015 = df_region.query('time_period == \"2011-2015\"')"
   ]
  },
  {
   "cell_type": "code",
   "execution_count": 149,
   "metadata": {},
   "outputs": [
    {
     "data": {
      "text/plain": [
       "True"
      ]
     },
     "execution_count": 149,
     "metadata": {},
     "output_type": "execute_result"
    }
   ],
   "source": [
    "#verify shape\n",
    "df_bef_1995.shape == df_1995_2000.shape == df_2001_2005.shape == df_2006_2010.shape == df_2011_2015.shape"
   ]
  },
  {
   "cell_type": "code",
   "execution_count": 150,
   "metadata": {},
   "outputs": [
    {
     "data": {
      "text/plain": [
       "<matplotlib.legend.Legend at 0x1cd3b302340>"
      ]
     },
     "execution_count": 150,
     "metadata": {},
     "output_type": "execute_result"
    },
    {
     "data": {
      "image/png": "[encoded data removed]",
      "text/plain": [
       "<Figure size 864x720 with 1 Axes>"
      ]
     },
     "metadata": {},
     "output_type": "display_data"
    }
   ],
   "source": [
    "ind = np.arange(6)  # the x locations for the 6 regions\n",
    "width = 0.15       # the width of the bars\n",
    "# plot bars\n",
    "bars_bef_1995 = plt.bar(ind, df_bef_1995['unemployment_percent'], width, color='r', alpha=.7, label='Before 1995')\n",
    "bars_1995_2000 = plt.bar(ind + width, df_1995_2000['unemployment_percent'], width, color='w', alpha=.7, label='1995-2000')\n",
    "bars_2001_2005 = plt.bar(ind + 2*width, df_2001_2005['unemployment_percent'], width, color='g', alpha=.7, label='2001-2005')\n",
    "bars_2006_2010 = plt.bar(ind + 3*width, df_2006_2010['unemployment_percent'], width, color='b', alpha=.7, label='2006-2010')\n",
    "bars_2011_2015 = plt.bar(ind + 4*width, df_2011_2015['unemployment_percent'], width, color='y', alpha=.7, label='2011-2015')\n",
    "\n",
    "# title and labels\n",
    "plt.ylabel('Unemployment Percentage')\n",
    "plt.xlabel('Region')\n",
    "plt.title('Figure 7: Unemployment Percentage per Region over Time')\n",
    "locations = ind + 2*width # xtick locations\n",
    "labels = Reg  # xtick labels\n",
    "plt.xticks(locations, labels, rotation=45)\n",
    "\n",
    "# legend\n",
    "plt.legend()"
   ]
  },
  {
   "cell_type": "markdown",
   "metadata": {},
   "source": [
    "As observed in Figure 7, the unemployment percentage has decreased over time in America until 2010, then slightly increased from 2011-2015.\n",
    "In Europe-Central Asia and Middle East/North Africa, the unemployment percentage has generally increased over time. Furthermore, while the unemployment percentage is almost stable in East Asia Pacific, it is observed to surge between 1995-2005 in South Asia and between 2001-2010 in Sub Saharan Africa."
   ]
  },
  {
   "cell_type": "markdown",
   "metadata": {},
   "source": [
    "#### Research Question 5:\n",
    "\n",
    "#### What is the relationship between mean school years and youth literacy rates per region?"
   ]
  },
  {
   "cell_type": "code",
   "execution_count": 151,
   "metadata": {},
   "outputs": [],
   "source": [
    "df_q5=df[['region','time_period','age_group','mean_school_years','youth_literacy_rate']]\n",
    "df_q5_a = df_q5.query(\"age_group == '15-24'\")\n",
    "df_q5_a = df_q5_a.dropna()"
   ]
  },
  {
   "cell_type": "code",
   "execution_count": 152,
   "metadata": {},
   "outputs": [
    {
     "name": "stdout",
     "output_type": "stream",
     "text": [
      "<class 'pandas.core.frame.DataFrame'>\n",
      "Int64Index: 2098 entries, 2 to 8599\n",
      "Data columns (total 5 columns):\n",
      " #   Column               Non-Null Count  Dtype  \n",
      "---  ------               --------------  -----  \n",
      " 0   region               2098 non-null   object \n",
      " 1   time_period          2098 non-null   object \n",
      " 2   age_group            2098 non-null   object \n",
      " 3   mean_school_years    2098 non-null   float64\n",
      " 4   youth_literacy_rate  2098 non-null   float64\n",
      "dtypes: float64(2), object(3)\n",
      "memory usage: 98.3+ KB\n"
     ]
    }
   ],
   "source": [
    "df_q5_a.info()"
   ]
  },
  {
   "cell_type": "code",
   "execution_count": 157,
   "metadata": {},
   "outputs": [],
   "source": [
    "def scatter_plot_q5(region, a, b, ind):\n",
    "    plt.subplot(a,b,ind)\n",
    "    df_q5_1 = df_q5_a.query('region == \"{}\"'.format(region))\n",
    "    plt.scatter(df_q5_1['mean_school_years'],df_q5_1['youth_literacy_rate'])\n",
    "    plt.xlabel(\"Mean School Years\")\n",
    "    plt.ylabel(\"Youth Literacy Rate\")\n",
    "    plt.title(region.replace(\"_\",\" \").title())"
   ]
  },
  {
   "cell_type": "code",
   "execution_count": 158,
   "metadata": {},
   "outputs": [
    {
     "data": {
      "image/png": "[encoded data removed]",
      "text/plain": [
       "<Figure size 864x720 with 6 Axes>"
      ]
     },
     "metadata": {},
     "output_type": "display_data"
    }
   ],
   "source": [
    "plt.suptitle(\"Figure 8: Relationship between Mean School Years and Youth Literacy Rates per Region\")\n",
    "\n",
    "for i in range(len(Regions)):\n",
    "    scatter_plot_q5(Regions[i],2,3,i+1)\n",
    "    \n",
    "plt.show()"
   ]
  },
  {
   "cell_type": "markdown",
   "metadata": {},
   "source": [
    "As observed in Figure 8, higher youth literacy rates are generally correlated with higher mean years spent at school across all time periods for all regions, although the number of data points for Middle East North Africa, South Asia and Sub Saharan Africa Regions is much lower than the data points available for the other three regions. "
   ]
  },
  {
   "cell_type": "markdown",
   "metadata": {},
   "source": [
    "<a id='conclusions'></a>\n",
    "## Conclusions\n",
    "Based on the conducted data analysis and exploration, the following conclusions can be drawn:\n",
    "\n",
    "### RQ 1:\n",
    "1. The distribution of mean school years datasets are similar for both male and female data, and are skewed to the left. This means that the mean school years are relatively high across the entire dataset. \n",
    "2. The mean years spent at school for both genders are generally higher for the time period between 2001-2015.\n",
    "3. Based on the reported data, females tend to spend less years at school compared to males, across all time periods and in different regions of the world, except for America in which females spend slightly higher years at school than males.\n",
    "\n",
    "### RQ2: \n",
    "1. Except for South Asia, the unemployment percentages are highest for people aged 15-24 for all other regions. In South Asia, the highest unemployment percentage is for people aged 65 and above. \n",
    "2. For the working age (between 15-54), the unemployment percentages are lowest in South Asia and highest in the MENA Region and Sub Saharan Africa.\n",
    "3. For people aged 55-64, the unemployment percentages are almost similar in America MENA region, South Asia and Sub Saharan Africa (around 4-5%), whie being highest in Europe/Central Asia (\\~6%) and lowest in East Asia Pacific (\\~2%). \n",
    "\n",
    "### RQ3:\n",
    "1. Despite the dispersity of the data points and the weak correlation observed in almost all the scatter plots, a negative correlation is observed between Mean School Years and Unemployment Percentage in America, East Asia Pacific, Europe/Central Asia and MENA Region, after a certain threshold of mean school years =\\~12 years. \n",
    "\n",
    "This, however, should acknowledge the difference in the numbers of datapoints from each region. Furthermore, due to the difference in the numbers of data points in the unemployment and mean school years datasets, the merging caused loss in data points which can be the reason of this disperse scatter plots. \n",
    "\n",
    "Additional data to fill in the gaps between the two datasets can help draw better conclusions on this correlation. \n",
    "\n",
    "### RQ4:\n",
    "1. The mean percentage unemployment steeply increased over time for the period between 1970 to around 1985 from slightly above 3% to around 9%. The rate of change then decreases and percentage unemployment fluctuates between 8-10% from around 1992 to 2015.\n",
    "2. The unemployment percentage has decreased over time in America up to 2010 but is slightly increased from 2011-2015. \n",
    "3. The unemployment percentage has increased over time in Europe-Central Asia and Middle East/North Africa.\n",
    "4. It is almost stable in East Asia Pacific and is highest between 1995-2005 in South Asia and Sub Saharan Africa. \n",
    "\n",
    "### RQ5:\n",
    "1. Higher youth literacy rates are generally correlated with higher mean years spent at school across all time periods. \n",
    "2. More data points on youth literacy rates for Middle East North Africa, South Asia and Sub Saharan Africa regions are needed to draw more reliable conclusions.\n",
    "\n",
    "*** \n",
    "\n",
    "### Limitations\n",
    "1. The number of datapoints reported in the original DDFcsv files for unemployment rates are different from those for the mean school years, although the same categories of country, age group and gender are used in both files. In particular, the total number of data points for unemployment data is 16120, spanning a time frame from 1948 to 2017, while the number of data points for mean school years is 69184, spanning a time frame from 1992 to 2015. While the intersection (i.e. inner join) between these two dataset was necessary to perform a fair comparison of the relationship between the different factors, this intersection causes loss of a large number of data points from the mean school years data, while cutting down the time frame of the unemploymeent data to match that of the mean school years data. This is a key limitation of the presented exploration, and can be acknowledged by studying each criteria (i.e. unemployment percentage and mean school years) in isolation then interpolating/extrapolating the results accordingly to perform the required comparisons. \n",
    "\n",
    "2. In the conducted analysis, age is grouped according to the grouping in the unemployment percentage files, which has larger bins compared to the mean school years data which is provided for every 10 years of age. This is particularly evident for the age group 25-54 years. The merging of school years data into the wider age groups of the unemployment data is expected to have an impact on the outcomes of the data exploration stage. However, this impact has been minimized by taking the statistical average of the mean school years values in 25-34, 35-44 and 45-54 to generate the wider grouping from 25-54. \n",
    "\n",
    "3. Data on youth literacy rates is available until 2011 only, and does not follow the same resolution as the mean school years data. This is partially overcome by filling the nulls within the youth age group (15-24) with the mean across the different years. This, however, impacts the reliability of the conclusions made based on this data and affects the correlation between these two variables.\n"
   ]
  },
  {
   "cell_type": "code",
   "execution_count": null,
   "metadata": {},
   "outputs": [],
   "source": []
  }
 ],
 "metadata": {
  "kernelspec": {
   "display_name": "Python 3 (ipykernel)",
   "language": "python",
   "name": "python3"
  },
  "language_info": {
   "codemirror_mode": {
    "name": "ipython",
    "version": 3
   },
   "file_extension": ".py",
   "mimetype": "text/x-python",
   "name": "python",
   "nbconvert_exporter": "python",
   "pygments_lexer": "ipython3",
   "version": "3.8.12"
  }
 },
 "nbformat": 4,
 "nbformat_minor": 2
}
